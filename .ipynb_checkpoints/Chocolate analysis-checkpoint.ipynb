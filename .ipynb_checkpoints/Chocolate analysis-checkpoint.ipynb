{
 "cells": [
  {
   "cell_type": "markdown",
   "id": "8bfcbef0",
   "metadata": {},
   "source": [
    "## BUSINESS UNDERSTANDING "
   ]
  },
  {
   "cell_type": "markdown",
   "id": "df737df3",
   "metadata": {},
   "source": [
    "### Overview\n",
    "People who enjoy chocolate often say, \"If there is no chocolate in heaven, I'm not going.\" Chocolate is not only delicious; dark chocolate is also high in nutrients that can benefit your health. It's one of the best antioxidant sources available, made from the cacao tree's seed. According to research, dark chocolate can improve your health and lower your risk of heart disease. Dark chocolate's antioxidants have been shown to lower blood pressure, reduce the risk of clotting, and increase blood circulation to the heart, lowering the risks of stroke, coronary heart disease, and heart disease death.\n",
    "\n",
    "### Problem Statement\n",
    "Gourmet chocolate bars are something that Willy Wonka's Chocolate wants to add. In order to influence our initial approach to potential suppliers, we want to know best qualities of chocolate.\n",
    "\n",
    "### Objectives\n",
    "To find out if the cacao beans' country of origin affects the grade.\n",
    "\n",
    "To find out if ratings vary depending on the percentage of cocoa in the bar.\n",
    "\n",
    "To see if the number of ingredients affects the rating.\n",
    "\n",
    "To find out if the type of ingredients affects the rating.\n",
    "\n",
    "### Business Question\n",
    "Which country are cocoa beans most commonly from?\n",
    "\n",
    "Which ingredients are most widely used?\n",
    "\n",
    "How many ingredients does the best-rated chocolate have?\n",
    "\n",
    "### Expected Benefits to the Organization\n",
    "We can reduce our supplier search with its assistance."
   ]
  },
  {
   "cell_type": "markdown",
   "id": "483f0418",
   "metadata": {},
   "source": [
    "## Data Understanding\n",
    "\n",
    "### Overview\n",
    "I'll attempt to learn more from the provided information so that Willy Wonka's Chocolate can focus its supplier search.\n",
    "\n",
    "### Data Description\n",
    "\n",
    "* \"id\" - id number of the review\n",
    "* \"manufacturer\" - Name of the bar manufacturer\n",
    "* \"company_location\" - Location of the manufacturer\n",
    "* \"year_reviewed\" - From 2006 to 2021\n",
    "* \"bean_origin\" - Country of origin of the cacao beans\n",
    "* \"bar_name\" - Name of the chocolate bar\n",
    "* \"cocoa_percent\" - Cocoa content of the bar (%)\n",
    "* \"num_ingredients\" - Number of ingredients\n",
    "* \"ingredients\" - B (Beans), S (Sugar), S* (Sweetener other than sugar or beet sugar), C (Cocoa Butter), (V) Vanilla, (L) Lecithin, (Sa) Salt\n",
    "* \"review\" - Summary of most memorable characteristics of the chocolate bar\n",
    "* \"rating\" - 1.0-1.9 Unpleasant, 2.0-2.9 Disappointing, 3.0-3.49 Recommended, 3.5-3.9 Highly Recommended, 4.0-5.0 Oustanding"
   ]
  },
  {
   "cell_type": "code",
   "execution_count": 54,
   "id": "d7488201",
   "metadata": {},
   "outputs": [],
   "source": [
    "# Importing the necessary libraries\n",
    "import pandas as pd\n",
    "import numpy as np\n",
    "import scipy.stats\n",
    "\n",
    "# Import visualization libraries\n",
    "import matplotlib.pyplot as plt\n",
    "%matplotlib inline\n",
    "import seaborn as sns\n",
    "\n",
    "plt.style.use('ggplot')\n",
    "\n",
    "import warnings\n",
    "warnings.filterwarnings(\"ignore\")"
   ]
  },
  {
   "cell_type": "code",
   "execution_count": 55,
   "id": "b8d69d21",
   "metadata": {},
   "outputs": [],
   "source": [
    "# Loading the data\n",
    "df_chocs =pd.read_csv(\"Data\\chocolate bars.csv\")"
   ]
  },
  {
   "cell_type": "code",
   "execution_count": 56,
   "id": "e8ec16ed",
   "metadata": {},
   "outputs": [
    {
     "data": {
      "text/html": [
       "<div>\n",
       "<style scoped>\n",
       "    .dataframe tbody tr th:only-of-type {\n",
       "        vertical-align: middle;\n",
       "    }\n",
       "\n",
       "    .dataframe tbody tr th {\n",
       "        vertical-align: top;\n",
       "    }\n",
       "\n",
       "    .dataframe thead th {\n",
       "        text-align: right;\n",
       "    }\n",
       "</style>\n",
       "<table border=\"1\" class=\"dataframe\">\n",
       "  <thead>\n",
       "    <tr style=\"text-align: right;\">\n",
       "      <th></th>\n",
       "      <th>id</th>\n",
       "      <th>manufacturer</th>\n",
       "      <th>company_location</th>\n",
       "      <th>year_reviewed</th>\n",
       "      <th>bean_origin</th>\n",
       "      <th>bar_name</th>\n",
       "      <th>cocoa_percent</th>\n",
       "      <th>num_ingredients</th>\n",
       "      <th>ingredients</th>\n",
       "      <th>review</th>\n",
       "      <th>rating</th>\n",
       "    </tr>\n",
       "  </thead>\n",
       "  <tbody>\n",
       "    <tr>\n",
       "      <th>0</th>\n",
       "      <td>2454</td>\n",
       "      <td>5150</td>\n",
       "      <td>U.S.A.</td>\n",
       "      <td>2019</td>\n",
       "      <td>Tanzania</td>\n",
       "      <td>\"Kokoa Kamili, batch 1\"</td>\n",
       "      <td>76.0</td>\n",
       "      <td>3.0</td>\n",
       "      <td>\"B,S,C\"</td>\n",
       "      <td>\"rich cocoa, fatty, bready\"</td>\n",
       "      <td>3.25</td>\n",
       "    </tr>\n",
       "    <tr>\n",
       "      <th>1</th>\n",
       "      <td>2458</td>\n",
       "      <td>5150</td>\n",
       "      <td>U.S.A.</td>\n",
       "      <td>2019</td>\n",
       "      <td>Dominican Republic</td>\n",
       "      <td>\"Zorzal, batch 1\"</td>\n",
       "      <td>76.0</td>\n",
       "      <td>3.0</td>\n",
       "      <td>\"B,S,C\"</td>\n",
       "      <td>\"cocoa, vegetal, savory\"</td>\n",
       "      <td>3.50</td>\n",
       "    </tr>\n",
       "    <tr>\n",
       "      <th>2</th>\n",
       "      <td>2454</td>\n",
       "      <td>5150</td>\n",
       "      <td>U.S.A.</td>\n",
       "      <td>2019</td>\n",
       "      <td>Madagascar</td>\n",
       "      <td>\"Bejofo Estate, batch 1\"</td>\n",
       "      <td>76.0</td>\n",
       "      <td>3.0</td>\n",
       "      <td>\"B,S,C\"</td>\n",
       "      <td>\"cocoa, blackberry, full body\"</td>\n",
       "      <td>3.75</td>\n",
       "    </tr>\n",
       "    <tr>\n",
       "      <th>3</th>\n",
       "      <td>2542</td>\n",
       "      <td>5150</td>\n",
       "      <td>U.S.A.</td>\n",
       "      <td>2021</td>\n",
       "      <td>Fiji</td>\n",
       "      <td>\"Matasawalevu, batch 1\"</td>\n",
       "      <td>68.0</td>\n",
       "      <td>3.0</td>\n",
       "      <td>\"B,S,C\"</td>\n",
       "      <td>\"chewy, off, rubbery\"</td>\n",
       "      <td>3.00</td>\n",
       "    </tr>\n",
       "    <tr>\n",
       "      <th>4</th>\n",
       "      <td>2546</td>\n",
       "      <td>5150</td>\n",
       "      <td>U.S.A.</td>\n",
       "      <td>2021</td>\n",
       "      <td>Venezuela</td>\n",
       "      <td>\"Sur del Lago, batch 1\"</td>\n",
       "      <td>72.0</td>\n",
       "      <td>3.0</td>\n",
       "      <td>\"B,S,C\"</td>\n",
       "      <td>\"fatty, earthy, moss, nutty,chalky\"</td>\n",
       "      <td>3.00</td>\n",
       "    </tr>\n",
       "  </tbody>\n",
       "</table>\n",
       "</div>"
      ],
      "text/plain": [
       "     id manufacturer company_location  year_reviewed         bean_origin  \\\n",
       "0  2454         5150           U.S.A.           2019            Tanzania   \n",
       "1  2458         5150           U.S.A.           2019  Dominican Republic   \n",
       "2  2454         5150           U.S.A.           2019          Madagascar   \n",
       "3  2542         5150           U.S.A.           2021                Fiji   \n",
       "4  2546         5150           U.S.A.           2021           Venezuela   \n",
       "\n",
       "                   bar_name  cocoa_percent  num_ingredients ingredients  \\\n",
       "0   \"Kokoa Kamili, batch 1\"           76.0              3.0     \"B,S,C\"   \n",
       "1         \"Zorzal, batch 1\"           76.0              3.0     \"B,S,C\"   \n",
       "2  \"Bejofo Estate, batch 1\"           76.0              3.0     \"B,S,C\"   \n",
       "3   \"Matasawalevu, batch 1\"           68.0              3.0     \"B,S,C\"   \n",
       "4   \"Sur del Lago, batch 1\"           72.0              3.0     \"B,S,C\"   \n",
       "\n",
       "                                review  rating  \n",
       "0          \"rich cocoa, fatty, bready\"    3.25  \n",
       "1             \"cocoa, vegetal, savory\"    3.50  \n",
       "2       \"cocoa, blackberry, full body\"    3.75  \n",
       "3                \"chewy, off, rubbery\"    3.00  \n",
       "4  \"fatty, earthy, moss, nutty,chalky\"    3.00  "
      ]
     },
     "execution_count": 56,
     "metadata": {},
     "output_type": "execute_result"
    }
   ],
   "source": [
    "# previewing the data set\n",
    "df_chocs.head()"
   ]
  },
  {
   "cell_type": "code",
   "execution_count": 57,
   "id": "dfe58cc6",
   "metadata": {},
   "outputs": [
    {
     "data": {
      "text/html": [
       "<div>\n",
       "<style scoped>\n",
       "    .dataframe tbody tr th:only-of-type {\n",
       "        vertical-align: middle;\n",
       "    }\n",
       "\n",
       "    .dataframe tbody tr th {\n",
       "        vertical-align: top;\n",
       "    }\n",
       "\n",
       "    .dataframe thead th {\n",
       "        text-align: right;\n",
       "    }\n",
       "</style>\n",
       "<table border=\"1\" class=\"dataframe\">\n",
       "  <thead>\n",
       "    <tr style=\"text-align: right;\">\n",
       "      <th></th>\n",
       "      <th>id</th>\n",
       "      <th>manufacturer</th>\n",
       "      <th>company_location</th>\n",
       "      <th>year_reviewed</th>\n",
       "      <th>bean_origin</th>\n",
       "      <th>bar_name</th>\n",
       "      <th>cocoa_percent</th>\n",
       "      <th>num_ingredients</th>\n",
       "      <th>ingredients</th>\n",
       "      <th>review</th>\n",
       "      <th>rating</th>\n",
       "    </tr>\n",
       "  </thead>\n",
       "  <tbody>\n",
       "    <tr>\n",
       "      <th>1813</th>\n",
       "      <td>2302</td>\n",
       "      <td>Pangea</td>\n",
       "      <td>Spain</td>\n",
       "      <td>2019</td>\n",
       "      <td>Peru</td>\n",
       "      <td>Chilique</td>\n",
       "      <td>71.0</td>\n",
       "      <td>2.0</td>\n",
       "      <td>\"B,S\"</td>\n",
       "      <td>\"sandy, fruit, cocoa, sour\"</td>\n",
       "      <td>3.5</td>\n",
       "    </tr>\n",
       "    <tr>\n",
       "      <th>1814</th>\n",
       "      <td>1363</td>\n",
       "      <td>Park 75</td>\n",
       "      <td>U.S.A.</td>\n",
       "      <td>2014</td>\n",
       "      <td>Blend</td>\n",
       "      <td>South America</td>\n",
       "      <td>65.0</td>\n",
       "      <td>3.0</td>\n",
       "      <td>\"B,S,V\"</td>\n",
       "      <td>\"mild nutty, basic cocoa\"</td>\n",
       "      <td>3.5</td>\n",
       "    </tr>\n",
       "    <tr>\n",
       "      <th>1815</th>\n",
       "      <td>1251</td>\n",
       "      <td>Parliament</td>\n",
       "      <td>U.S.A.</td>\n",
       "      <td>2014</td>\n",
       "      <td>Bolivia</td>\n",
       "      <td>Alto Beni</td>\n",
       "      <td>70.0</td>\n",
       "      <td>2.0</td>\n",
       "      <td>\"B,S\"</td>\n",
       "      <td>\"gritty, woody, acidic\"</td>\n",
       "      <td>3.0</td>\n",
       "    </tr>\n",
       "    <tr>\n",
       "      <th>1816</th>\n",
       "      <td>1255</td>\n",
       "      <td>Parliament</td>\n",
       "      <td>U.S.A.</td>\n",
       "      <td>2014</td>\n",
       "      <td>Dominican Republic</td>\n",
       "      <td>\"Oko Caribe, batch 4\"</td>\n",
       "      <td>70.0</td>\n",
       "      <td>2.0</td>\n",
       "      <td>\"B,S\"</td>\n",
       "      <td>\"mild spice, grapes\"</td>\n",
       "      <td>3.5</td>\n",
       "    </tr>\n",
       "    <tr>\n",
       "      <th>1817</th>\n",
       "      <td>1542</td>\n",
       "      <td>Parliament</td>\n",
       "      <td>U.S.A.</td>\n",
       "      <td>2015</td>\n",
       "      <td>Guatemala</td>\n",
       "      <td>\"Lachua, Q'egchi families\"</td>\n",
       "      <td>70.0</td>\n",
       "      <td>2.0</td>\n",
       "      <td>\"B,S\"</td>\n",
       "      <td>\"intense, blackberry, acidic\"</td>\n",
       "      <td>3.5</td>\n",
       "    </tr>\n",
       "  </tbody>\n",
       "</table>\n",
       "</div>"
      ],
      "text/plain": [
       "        id manufacturer company_location  year_reviewed         bean_origin  \\\n",
       "1813  2302       Pangea            Spain           2019                Peru   \n",
       "1814  1363      Park 75           U.S.A.           2014               Blend   \n",
       "1815  1251   Parliament           U.S.A.           2014             Bolivia   \n",
       "1816  1255   Parliament           U.S.A.           2014  Dominican Republic   \n",
       "1817  1542   Parliament           U.S.A.           2015           Guatemala   \n",
       "\n",
       "                        bar_name  cocoa_percent  num_ingredients ingredients  \\\n",
       "1813                    Chilique           71.0              2.0       \"B,S\"   \n",
       "1814               South America           65.0              3.0     \"B,S,V\"   \n",
       "1815                   Alto Beni           70.0              2.0       \"B,S\"   \n",
       "1816       \"Oko Caribe, batch 4\"           70.0              2.0       \"B,S\"   \n",
       "1817  \"Lachua, Q'egchi families\"           70.0              2.0       \"B,S\"   \n",
       "\n",
       "                             review  rating  \n",
       "1813    \"sandy, fruit, cocoa, sour\"     3.5  \n",
       "1814      \"mild nutty, basic cocoa\"     3.5  \n",
       "1815        \"gritty, woody, acidic\"     3.0  \n",
       "1816           \"mild spice, grapes\"     3.5  \n",
       "1817  \"intense, blackberry, acidic\"     3.5  "
      ]
     },
     "execution_count": 57,
     "metadata": {},
     "output_type": "execute_result"
    }
   ],
   "source": [
    "# Previewing the last five rows of the data\n",
    "df_chocs.tail()"
   ]
  },
  {
   "cell_type": "code",
   "execution_count": 58,
   "id": "01884aca",
   "metadata": {},
   "outputs": [
    {
     "name": "stdout",
     "output_type": "stream",
     "text": [
      " This data has 1818 rows and 11 columns\n"
     ]
    }
   ],
   "source": [
    "# getting the shape of the data\n",
    "print(f\" This data has {df_chocs.shape[0]} rows and {df_chocs.shape[1]} columns\")"
   ]
  },
  {
   "cell_type": "markdown",
   "id": "1b90ad16",
   "metadata": {},
   "source": [
    "### Preliminary Data Inspection"
   ]
  },
  {
   "cell_type": "code",
   "execution_count": 59,
   "id": "4fb1be52",
   "metadata": {},
   "outputs": [
    {
     "name": "stdout",
     "output_type": "stream",
     "text": [
      "<class 'pandas.core.frame.DataFrame'>\n",
      "RangeIndex: 1818 entries, 0 to 1817\n",
      "Data columns (total 11 columns):\n",
      " #   Column            Non-Null Count  Dtype  \n",
      "---  ------            --------------  -----  \n",
      " 0   id                1818 non-null   int64  \n",
      " 1   manufacturer      1818 non-null   object \n",
      " 2   company_location  1818 non-null   object \n",
      " 3   year_reviewed     1818 non-null   int64  \n",
      " 4   bean_origin       1818 non-null   object \n",
      " 5   bar_name          1818 non-null   object \n",
      " 6   cocoa_percent     1818 non-null   float64\n",
      " 7   num_ingredients   1754 non-null   float64\n",
      " 8   ingredients       1754 non-null   object \n",
      " 9   review            1818 non-null   object \n",
      " 10  rating            1818 non-null   float64\n",
      "dtypes: float64(3), int64(2), object(6)\n",
      "memory usage: 156.4+ KB\n"
     ]
    }
   ],
   "source": [
    "# Getting the 'data' about the data\n",
    "df_chocs.info()"
   ]
  },
  {
   "cell_type": "code",
   "execution_count": 60,
   "id": "21924a2b",
   "metadata": {},
   "outputs": [
    {
     "data": {
      "text/html": [
       "<div>\n",
       "<style scoped>\n",
       "    .dataframe tbody tr th:only-of-type {\n",
       "        vertical-align: middle;\n",
       "    }\n",
       "\n",
       "    .dataframe tbody tr th {\n",
       "        vertical-align: top;\n",
       "    }\n",
       "\n",
       "    .dataframe thead th {\n",
       "        text-align: right;\n",
       "    }\n",
       "</style>\n",
       "<table border=\"1\" class=\"dataframe\">\n",
       "  <thead>\n",
       "    <tr style=\"text-align: right;\">\n",
       "      <th></th>\n",
       "      <th>count</th>\n",
       "      <th>mean</th>\n",
       "      <th>std</th>\n",
       "      <th>min</th>\n",
       "      <th>25%</th>\n",
       "      <th>50%</th>\n",
       "      <th>75%</th>\n",
       "      <th>max</th>\n",
       "    </tr>\n",
       "  </thead>\n",
       "  <tbody>\n",
       "    <tr>\n",
       "      <th>id</th>\n",
       "      <td>1818.0</td>\n",
       "      <td>1443.671617</td>\n",
       "      <td>758.434534</td>\n",
       "      <td>5.0</td>\n",
       "      <td>810.0</td>\n",
       "      <td>1462.00</td>\n",
       "      <td>2108.0</td>\n",
       "      <td>2712.0</td>\n",
       "    </tr>\n",
       "    <tr>\n",
       "      <th>year_reviewed</th>\n",
       "      <td>1818.0</td>\n",
       "      <td>2014.451595</td>\n",
       "      <td>3.960332</td>\n",
       "      <td>2006.0</td>\n",
       "      <td>2012.0</td>\n",
       "      <td>2015.00</td>\n",
       "      <td>2018.0</td>\n",
       "      <td>2021.0</td>\n",
       "    </tr>\n",
       "    <tr>\n",
       "      <th>cocoa_percent</th>\n",
       "      <td>1818.0</td>\n",
       "      <td>71.520627</td>\n",
       "      <td>5.615671</td>\n",
       "      <td>42.0</td>\n",
       "      <td>70.0</td>\n",
       "      <td>70.00</td>\n",
       "      <td>74.0</td>\n",
       "      <td>100.0</td>\n",
       "    </tr>\n",
       "    <tr>\n",
       "      <th>num_ingredients</th>\n",
       "      <td>1754.0</td>\n",
       "      <td>3.000570</td>\n",
       "      <td>0.899705</td>\n",
       "      <td>1.0</td>\n",
       "      <td>2.0</td>\n",
       "      <td>3.00</td>\n",
       "      <td>4.0</td>\n",
       "      <td>6.0</td>\n",
       "    </tr>\n",
       "    <tr>\n",
       "      <th>rating</th>\n",
       "      <td>1818.0</td>\n",
       "      <td>3.188119</td>\n",
       "      <td>0.447606</td>\n",
       "      <td>1.0</td>\n",
       "      <td>3.0</td>\n",
       "      <td>3.25</td>\n",
       "      <td>3.5</td>\n",
       "      <td>4.0</td>\n",
       "    </tr>\n",
       "  </tbody>\n",
       "</table>\n",
       "</div>"
      ],
      "text/plain": [
       "                  count         mean         std     min     25%      50%  \\\n",
       "id               1818.0  1443.671617  758.434534     5.0   810.0  1462.00   \n",
       "year_reviewed    1818.0  2014.451595    3.960332  2006.0  2012.0  2015.00   \n",
       "cocoa_percent    1818.0    71.520627    5.615671    42.0    70.0    70.00   \n",
       "num_ingredients  1754.0     3.000570    0.899705     1.0     2.0     3.00   \n",
       "rating           1818.0     3.188119    0.447606     1.0     3.0     3.25   \n",
       "\n",
       "                    75%     max  \n",
       "id               2108.0  2712.0  \n",
       "year_reviewed    2018.0  2021.0  \n",
       "cocoa_percent      74.0   100.0  \n",
       "num_ingredients     4.0     6.0  \n",
       "rating              3.5     4.0  "
      ]
     },
     "execution_count": 60,
     "metadata": {},
     "output_type": "execute_result"
    }
   ],
   "source": [
    "# Obtaining the summary descriptive statistics of the data\n",
    "df_chocs.describe().T"
   ]
  },
  {
   "cell_type": "markdown",
   "id": "7cc57b66",
   "metadata": {},
   "source": [
    "#### Observations\n",
    "` year_reviewed` should be casted as a datetime object. \n",
    "\n",
    "`id`  should be casted to object."
   ]
  },
  {
   "cell_type": "code",
   "execution_count": 61,
   "id": "3f028e6a",
   "metadata": {},
   "outputs": [
    {
     "data": {
      "text/plain": [
       "object     6\n",
       "float64    3\n",
       "int64      2\n",
       "dtype: int64"
      ]
     },
     "execution_count": 61,
     "metadata": {},
     "output_type": "execute_result"
    }
   ],
   "source": [
    "# Getting the data types of the data\n",
    "df_chocs.dtypes.value_counts()"
   ]
  },
  {
   "cell_type": "markdown",
   "id": "c15f689c",
   "metadata": {},
   "source": [
    "In our dataset, there are 6 string features and 5 numeric characteristics."
   ]
  },
  {
   "cell_type": "markdown",
   "id": "2ebaa2a3",
   "metadata": {},
   "source": [
    "## Data Preparation\n",
    "\n",
    "### Data Cleaning\n",
    "* Checking for missing values\n",
    "* Checking for duplicates\n",
    "* converting incorrect datatypes to appropriate datatypes\n",
    "\n",
    "#### Checking for and handling Missing values"
   ]
  },
  {
   "cell_type": "code",
   "execution_count": 62,
   "id": "9815f7cd",
   "metadata": {},
   "outputs": [
    {
     "data": {
      "text/plain": [
       "num_ingredients     64\n",
       "ingredients         64\n",
       "id                   0\n",
       "manufacturer         0\n",
       "company_location     0\n",
       "year_reviewed        0\n",
       "bean_origin          0\n",
       "bar_name             0\n",
       "cocoa_percent        0\n",
       "review               0\n",
       "rating               0\n",
       "dtype: int64"
      ]
     },
     "execution_count": 62,
     "metadata": {},
     "output_type": "execute_result"
    }
   ],
   "source": [
    "# Checking for null values\n",
    "df_chocs.isna().sum().sort_values(ascending = False)"
   ]
  },
  {
   "cell_type": "code",
   "execution_count": 63,
   "id": "6290cd16",
   "metadata": {},
   "outputs": [
    {
     "data": {
      "text/html": [
       "<div>\n",
       "<style scoped>\n",
       "    .dataframe tbody tr th:only-of-type {\n",
       "        vertical-align: middle;\n",
       "    }\n",
       "\n",
       "    .dataframe tbody tr th {\n",
       "        vertical-align: top;\n",
       "    }\n",
       "\n",
       "    .dataframe thead th {\n",
       "        text-align: right;\n",
       "    }\n",
       "</style>\n",
       "<table border=\"1\" class=\"dataframe\">\n",
       "  <thead>\n",
       "    <tr style=\"text-align: right;\">\n",
       "      <th></th>\n",
       "      <th>percent_missing</th>\n",
       "    </tr>\n",
       "  </thead>\n",
       "  <tbody>\n",
       "    <tr>\n",
       "      <th>num_ingredients</th>\n",
       "      <td>3.520352</td>\n",
       "    </tr>\n",
       "    <tr>\n",
       "      <th>ingredients</th>\n",
       "      <td>3.520352</td>\n",
       "    </tr>\n",
       "    <tr>\n",
       "      <th>id</th>\n",
       "      <td>0.000000</td>\n",
       "    </tr>\n",
       "    <tr>\n",
       "      <th>manufacturer</th>\n",
       "      <td>0.000000</td>\n",
       "    </tr>\n",
       "    <tr>\n",
       "      <th>company_location</th>\n",
       "      <td>0.000000</td>\n",
       "    </tr>\n",
       "    <tr>\n",
       "      <th>year_reviewed</th>\n",
       "      <td>0.000000</td>\n",
       "    </tr>\n",
       "    <tr>\n",
       "      <th>bean_origin</th>\n",
       "      <td>0.000000</td>\n",
       "    </tr>\n",
       "    <tr>\n",
       "      <th>bar_name</th>\n",
       "      <td>0.000000</td>\n",
       "    </tr>\n",
       "    <tr>\n",
       "      <th>cocoa_percent</th>\n",
       "      <td>0.000000</td>\n",
       "    </tr>\n",
       "    <tr>\n",
       "      <th>review</th>\n",
       "      <td>0.000000</td>\n",
       "    </tr>\n",
       "    <tr>\n",
       "      <th>rating</th>\n",
       "      <td>0.000000</td>\n",
       "    </tr>\n",
       "  </tbody>\n",
       "</table>\n",
       "</div>"
      ],
      "text/plain": [
       "                  percent_missing\n",
       "num_ingredients          3.520352\n",
       "ingredients              3.520352\n",
       "id                       0.000000\n",
       "manufacturer             0.000000\n",
       "company_location         0.000000\n",
       "year_reviewed            0.000000\n",
       "bean_origin              0.000000\n",
       "bar_name                 0.000000\n",
       "cocoa_percent            0.000000\n",
       "review                   0.000000\n",
       "rating                   0.000000"
      ]
     },
     "execution_count": 63,
     "metadata": {},
     "output_type": "execute_result"
    }
   ],
   "source": [
    "# checking the column's missing value percentage\n",
    "percent_missing = df_chocs.isnull().sum() * 100 / len(df_chocs)\n",
    "missing_value_df = pd.DataFrame({'percent_missing': percent_missing.sort_values(ascending=False)})\n",
    "missing_value_df"
   ]
  },
  {
   "cell_type": "markdown",
   "id": "9f8c9423",
   "metadata": {},
   "source": [
    "`num_ingredients`\tand `ingredients` columns have missing value."
   ]
  },
  {
   "cell_type": "markdown",
   "id": "e5aef857",
   "metadata": {},
   "source": [
    "#### Handling missing values for `ingredients` column"
   ]
  },
  {
   "cell_type": "code",
   "execution_count": 64,
   "id": "8fcd9c06",
   "metadata": {},
   "outputs": [
    {
     "data": {
      "text/plain": [
       "dtype('O')"
      ]
     },
     "execution_count": 64,
     "metadata": {},
     "output_type": "execute_result"
    }
   ],
   "source": [
    "# checking the data type of ingredients column\n",
    "df_chocs[\"ingredients\"].dtypes"
   ]
  },
  {
   "cell_type": "code",
   "execution_count": 65,
   "id": "c165fe41",
   "metadata": {},
   "outputs": [],
   "source": [
    "# Imputing ingredients column using mode\n",
    "df_chocs['ingredients'] = df_chocs['ingredients'].fillna(df_chocs['ingredients'].mode()[0])"
   ]
  },
  {
   "cell_type": "code",
   "execution_count": 66,
   "id": "bf6d8aef",
   "metadata": {},
   "outputs": [
    {
     "data": {
      "text/plain": [
       "0"
      ]
     },
     "execution_count": 66,
     "metadata": {},
     "output_type": "execute_result"
    }
   ],
   "source": [
    "# Checking if ingredients column has missing values\n",
    "df_chocs[\"ingredients\"].isna().sum()"
   ]
  },
  {
   "cell_type": "markdown",
   "id": "ed5a5965",
   "metadata": {},
   "source": [
    "The mode was used to successfully impute the `ingredients` column."
   ]
  },
  {
   "cell_type": "markdown",
   "id": "b9e217fb",
   "metadata": {},
   "source": [
    "#### Handling missing values for `num_ingredients\t` column"
   ]
  },
  {
   "cell_type": "code",
   "execution_count": 67,
   "id": "500b9ca0",
   "metadata": {},
   "outputs": [
    {
     "data": {
      "text/plain": [
       "dtype('float64')"
      ]
     },
     "execution_count": 67,
     "metadata": {},
     "output_type": "execute_result"
    }
   ],
   "source": [
    "# checking the data type of num_ingredients column\n",
    "df_chocs[\"num_ingredients\"].dtypes"
   ]
  },
  {
   "cell_type": "code",
   "execution_count": 68,
   "id": "bf5a124d",
   "metadata": {},
   "outputs": [
    {
     "data": {
      "text/plain": [
       "count    1754.000000\n",
       "mean        3.000570\n",
       "std         0.899705\n",
       "min         1.000000\n",
       "25%         2.000000\n",
       "50%         3.000000\n",
       "75%         4.000000\n",
       "max         6.000000\n",
       "Name: num_ingredients, dtype: float64"
      ]
     },
     "execution_count": 68,
     "metadata": {},
     "output_type": "execute_result"
    }
   ],
   "source": [
    "# Summary statistics of num_ingredients column\n",
    "df_chocs['num_ingredients'].describe()"
   ]
  },
  {
   "cell_type": "code",
   "execution_count": 69,
   "id": "ccffc04a",
   "metadata": {},
   "outputs": [],
   "source": [
    "# Imputing num_ingredients column using mean\n",
    "df_chocs[\"num_ingredients\"] = df_chocs[\"num_ingredients\"]\\\n",
    ".fillna(df_chocs[\"num_ingredients\"].mean())"
   ]
  },
  {
   "cell_type": "code",
   "execution_count": 70,
   "id": "2b4b6458",
   "metadata": {},
   "outputs": [
    {
     "data": {
      "text/plain": [
       "0"
      ]
     },
     "execution_count": 70,
     "metadata": {},
     "output_type": "execute_result"
    }
   ],
   "source": [
    "# Checking if num_ingredients column has missing values\n",
    "df_chocs[\"num_ingredients\"].isna().sum()"
   ]
  },
  {
   "cell_type": "markdown",
   "id": "9bb3bf0a",
   "metadata": {},
   "source": [
    "The mean was used to successfully impute the `num_ingredients` column"
   ]
  },
  {
   "cell_type": "markdown",
   "id": "3abd7fda",
   "metadata": {},
   "source": [
    "#### Checking for duplicates"
   ]
  },
  {
   "cell_type": "code",
   "execution_count": 71,
   "id": "55a40b40",
   "metadata": {},
   "outputs": [
    {
     "data": {
      "text/plain": [
       "0"
      ]
     },
     "execution_count": 71,
     "metadata": {},
     "output_type": "execute_result"
    }
   ],
   "source": [
    "df_chocs.duplicated().sum()"
   ]
  },
  {
   "cell_type": "markdown",
   "id": "240d8d57",
   "metadata": {},
   "source": [
    "There are no duplicate values in our dataset."
   ]
  },
  {
   "cell_type": "markdown",
   "id": "19cd5fa7",
   "metadata": {},
   "source": [
    "#### Type casting incorrect data types to correct data types"
   ]
  },
  {
   "cell_type": "code",
   "execution_count": 72,
   "id": "437d4614",
   "metadata": {},
   "outputs": [
    {
     "name": "stdout",
     "output_type": "stream",
     "text": [
      "<class 'pandas.core.frame.DataFrame'>\n",
      "RangeIndex: 1818 entries, 0 to 1817\n",
      "Data columns (total 11 columns):\n",
      " #   Column            Non-Null Count  Dtype  \n",
      "---  ------            --------------  -----  \n",
      " 0   id                1818 non-null   int64  \n",
      " 1   manufacturer      1818 non-null   object \n",
      " 2   company_location  1818 non-null   object \n",
      " 3   year_reviewed     1818 non-null   int64  \n",
      " 4   bean_origin       1818 non-null   object \n",
      " 5   bar_name          1818 non-null   object \n",
      " 6   cocoa_percent     1818 non-null   float64\n",
      " 7   num_ingredients   1818 non-null   float64\n",
      " 8   ingredients       1818 non-null   object \n",
      " 9   review            1818 non-null   object \n",
      " 10  rating            1818 non-null   float64\n",
      "dtypes: float64(3), int64(2), object(6)\n",
      "memory usage: 156.4+ KB\n"
     ]
    }
   ],
   "source": [
    "df_chocs.info()"
   ]
  },
  {
   "cell_type": "markdown",
   "id": "d293b387",
   "metadata": {},
   "source": [
    "The columns `id` and `year_reviewed` need to be changed to the appropriate data types, object and datetime, respectively."
   ]
  },
  {
   "cell_type": "code",
   "execution_count": 73,
   "id": "971fd68e",
   "metadata": {},
   "outputs": [],
   "source": [
    "# Converting `id` column into a string\n",
    "df_chocs[\"id\"] = df_chocs[\"id\"].values.astype(str)"
   ]
  },
  {
   "cell_type": "code",
   "execution_count": 74,
   "id": "bf9cf57d",
   "metadata": {},
   "outputs": [
    {
     "data": {
      "text/plain": [
       "dtype('O')"
      ]
     },
     "execution_count": 74,
     "metadata": {},
     "output_type": "execute_result"
    }
   ],
   "source": [
    "# Checking if id is in string data type\n",
    "df_chocs.id.dtypes"
   ]
  },
  {
   "cell_type": "markdown",
   "id": "97d65fc9",
   "metadata": {},
   "source": [
    "The `id` column has been successfully transformed into an object."
   ]
  },
  {
   "cell_type": "code",
   "execution_count": 75,
   "id": "45163aff",
   "metadata": {},
   "outputs": [],
   "source": [
    "# Converting year_reviewed column into datetime\n",
    "df_chocs['year_reviewed'].astype('int32')\n",
    "df_chocs['year_reviewed'] = pd.to_datetime(df_chocs['year_reviewed'],format='%Y')"
   ]
  },
  {
   "cell_type": "code",
   "execution_count": 76,
   "id": "37d65fe1",
   "metadata": {},
   "outputs": [
    {
     "data": {
      "text/plain": [
       "dtype('<M8[ns]')"
      ]
     },
     "execution_count": 76,
     "metadata": {},
     "output_type": "execute_result"
    }
   ],
   "source": [
    "# Checking if year_reviewed is in datetime data type\n",
    "df_chocs['year_reviewed'].dtypes"
   ]
  },
  {
   "cell_type": "markdown",
   "id": "db720de5",
   "metadata": {},
   "source": [
    "The `year_reviewed` column has been successfully transformed into an datetime."
   ]
  },
  {
   "cell_type": "markdown",
   "id": "feabeb1b",
   "metadata": {},
   "source": [
    "## Exploratory Data Analysis\n",
    "\n",
    "In this section, trends and patterns are examined using statistics and visualizations to demonstrate the relationships between the many variables in the data.\n",
    "\n",
    "### Univariate Analysis"
   ]
  },
  {
   "cell_type": "markdown",
   "id": "62031817",
   "metadata": {},
   "source": [
    "#### Feature `manufacturer`"
   ]
  },
  {
   "cell_type": "code",
   "execution_count": 77,
   "id": "0dbd6d16",
   "metadata": {},
   "outputs": [
    {
     "data": {
      "text/plain": [
       "Fresco                39\n",
       "Arete                 32\n",
       "Bonnat                30\n",
       "A. Morin              26\n",
       "Dandelion             25\n",
       "                      ..\n",
       "Charm School           1\n",
       "Cote d' Or (Kraft)     1\n",
       "Madhu                  1\n",
       "Chloe Chocolat         1\n",
       "Love Bar               1\n",
       "Name: manufacturer, Length: 427, dtype: int64"
      ]
     },
     "execution_count": 77,
     "metadata": {},
     "output_type": "execute_result"
    }
   ],
   "source": [
    "# Value counts of manufacturer\n",
    "df_chocs.manufacturer.value_counts()"
   ]
  },
  {
   "cell_type": "code",
   "execution_count": 78,
   "id": "ddf3a15a",
   "metadata": {},
   "outputs": [
    {
     "data": {
      "image/png": "[encoded data removed]",
      "text/plain": [
       "<Figure size 1152x576 with 1 Axes>"
      ]
     },
     "metadata": {},
     "output_type": "display_data"
    }
   ],
   "source": [
    "# Visualizing the top manufacturers\n",
    "plt.figure(figsize=(16,8))\n",
    "sns.barplot(data=df_chocs,x =df_chocs.manufacturer.value_counts().index[:20],\n",
    "            y =df_chocs.manufacturer.value_counts()[:20]).set(title=\"Top 20 chocolate manufacturers\")\n",
    "plt.xticks(rotation=90);"
   ]
  },
  {
   "cell_type": "markdown",
   "id": "af6073a1",
   "metadata": {},
   "source": [
    "###### Observation\n",
    "The majority of the chocolates were made by \"Fresco\" manufacturers."
   ]
  },
  {
   "cell_type": "markdown",
   "id": "4826fb34",
   "metadata": {},
   "source": [
    "#### Feature `company_location`"
   ]
  },
  {
   "cell_type": "code",
   "execution_count": 79,
   "id": "a5c6fd0c",
   "metadata": {},
   "outputs": [
    {
     "data": {
      "text/plain": [
       "U.S.A.                   813\n",
       "France                   124\n",
       "U.K.                     103\n",
       "Canada                    85\n",
       "Italy                     57\n",
       "                        ... \n",
       "St.Vincent-Grenadines      1\n",
       "India                      1\n",
       "Martinique                 1\n",
       "Ireland                    1\n",
       "Ghana                      1\n",
       "Name: company_location, Length: 65, dtype: int64"
      ]
     },
     "execution_count": 79,
     "metadata": {},
     "output_type": "execute_result"
    }
   ],
   "source": [
    "# Value counts  of company location\n",
    "df_chocs.company_location.value_counts()"
   ]
  },
  {
   "cell_type": "code",
   "execution_count": 80,
   "id": "25863361",
   "metadata": {},
   "outputs": [
    {
     "data": {
      "image/png": "[encoded data removed]",
      "text/plain": [
       "<Figure size 1152x576 with 1 Axes>"
      ]
     },
     "metadata": {},
     "output_type": "display_data"
    }
   ],
   "source": [
    "# Visualizing the top company_location producing lots of chocolate\n",
    "plt.figure(figsize=(16,8))\n",
    "sns.barplot(data=df_chocs,x =df_chocs.company_location.value_counts().index[:20],\n",
    "            y =df_chocs.company_location.value_counts()[:20])\\\n",
    ".set(title=\"Leading Region for Chocolate Production\")\n",
    "plt.xticks(rotation=90);"
   ]
  },
  {
   "cell_type": "markdown",
   "id": "a0e503ef",
   "metadata": {},
   "source": [
    "###### Observation\n",
    "According to the data, the `USA` is the country that produces the most chocolate."
   ]
  },
  {
   "cell_type": "markdown",
   "id": "a9a323b7",
   "metadata": {},
   "source": [
    "#### Feature `bean_origin`"
   ]
  },
  {
   "cell_type": "code",
   "execution_count": 121,
   "id": "67982aa9",
   "metadata": {},
   "outputs": [
    {
     "data": {
      "text/plain": [
       "Venezuela                195\n",
       "Peru                     170\n",
       "Dominican Republic       165\n",
       "Ecuador                  158\n",
       "Madagascar               110\n",
       "Blend                    101\n",
       "Nicaragua                 77\n",
       "Colombia                  60\n",
       "Brazil                    58\n",
       "Belize                    58\n",
       "Vietnam                   57\n",
       "Tanzania                  55\n",
       "Bolivia                   53\n",
       "Guatemala                 47\n",
       "Mexico                    43\n",
       "Papua New Guinea          36\n",
       "Costa Rica                32\n",
       "U.S.A.                    29\n",
       "India                     27\n",
       "Ghana                     27\n",
       "Trinidad                  25\n",
       "Haiti                     17\n",
       "Honduras                  17\n",
       "Jamaica                   17\n",
       "Philippines               17\n",
       "Grenada                   14\n",
       "Indonesia                 14\n",
       "Uganda                    12\n",
       "Sao Tome                  11\n",
       "Fiji                      11\n",
       "St. Lucia                 10\n",
       "Vanuatu                   10\n",
       "Malaysia                   8\n",
       "Cuba                       8\n",
       "Panama                     8\n",
       "Puerto Rico                7\n",
       "Solomon Islands            6\n",
       "Congo                      6\n",
       "Ivory Coast                6\n",
       "Thailand                   5\n",
       "Sierra Leone               4\n",
       "Liberia                    3\n",
       "Togo                       3\n",
       "Nigeria                    3\n",
       "El Salvador                3\n",
       "Taiwan                     2\n",
       "Australia                  2\n",
       "Samoa                      2\n",
       "Martinique                 1\n",
       "Burma                      1\n",
       "Sri Lanka                  1\n",
       "St.Vincent-Grenadines      1\n",
       "Gabon                      1\n",
       "Tobago                     1\n",
       "Sao Tome & Principe        1\n",
       "Sumatra                    1\n",
       "Cameroon                   1\n",
       "Name: bean_origin, dtype: int64"
      ]
     },
     "execution_count": 121,
     "metadata": {},
     "output_type": "execute_result"
    }
   ],
   "source": [
    "# Value counts  of bean_origin\n",
    "bean_origin_value_count = df_chocs.bean_origin.value_counts()\n",
    "bean_origin_value_count"
   ]
  },
  {
   "cell_type": "code",
   "execution_count": 118,
   "id": "3998f5fb",
   "metadata": {},
   "outputs": [
    {
     "data": {
      "image/png": "[encoded data removed]",
      "text/plain": [
       "<Figure size 1152x576 with 1 Axes>"
      ]
     },
     "metadata": {},
     "output_type": "display_data"
    }
   ],
   "source": [
    "# Visualizing the top cacao beans origin producing lots of chocolate\n",
    "plt.figure(figsize=(16,8))\n",
    "sns.barplot(data=df_chocs,x =df_chocs.bean_origin.value_counts().index[:20],\n",
    "            y =df_chocs.bean_origin.value_counts()[:20])\\\n",
    ".set(title=\"Leading origin for cacao beans\")\n",
    "plt.xticks(rotation=90);"
   ]
  },
  {
   "cell_type": "markdown",
   "id": "b560139f",
   "metadata": {},
   "source": [
    "###### Observation\n",
    "According to the data, `Venezuela` cacao beans are most frequently used to make chocolate.\n",
    "\n",
    "\n",
    "#### Feature `bar_name`"
   ]
  },
  {
   "cell_type": "code",
   "execution_count": 83,
   "id": "5d148d3c",
   "metadata": {},
   "outputs": [
    {
     "data": {
      "text/plain": [
       "Madagascar                             39\n",
       "Ecuador                                34\n",
       "Peru                                   27\n",
       "Dominican Republic                     23\n",
       "Chuao                                  23\n",
       "                                       ..\n",
       "\"Gola Rainforest, 2017 harvest\"         1\n",
       "\"WAMPU, La Mosquitia, 2017 harvest\"     1\n",
       "\"Anamalai, 2017 harvest\"                1\n",
       "\"Ben Tre, 2018 Harvest\"                 1\n",
       "\"Lachua, Q'egchi families\"              1\n",
       "Name: bar_name, Length: 1193, dtype: int64"
      ]
     },
     "execution_count": 83,
     "metadata": {},
     "output_type": "execute_result"
    }
   ],
   "source": [
    "# Value counts  of chocolate bars\n",
    "df_chocs.bar_name.value_counts()"
   ]
  },
  {
   "cell_type": "code",
   "execution_count": 84,
   "id": "b1cd8d46",
   "metadata": {},
   "outputs": [
    {
     "data": {
      "image/png": "[encoded data removed]",
      "text/plain": [
       "<Figure size 1152x576 with 1 Axes>"
      ]
     },
     "metadata": {},
     "output_type": "display_data"
    }
   ],
   "source": [
    "# Visualizing the top company_location producing lots of chocolate\n",
    "plt.figure(figsize=(16,8))\n",
    "sns.barplot(data=df_chocs,x =df_chocs.bar_name.value_counts().index[:20],\n",
    "            y =df_chocs.bar_name.value_counts()[:20])\\\n",
    ".set(title=\"Leading Chocolate Bar\")\n",
    "plt.xticks(rotation=90);"
   ]
  },
  {
   "cell_type": "markdown",
   "id": "883b7a1d",
   "metadata": {},
   "source": [
    "###### Observation\n",
    "Analysis shows that the `Madagascar` chocolate bar is the most bought.\n",
    "\n",
    "#### Feature `cocoa_percent`"
   ]
  },
  {
   "cell_type": "code",
   "execution_count": 85,
   "id": "b1506701",
   "metadata": {},
   "outputs": [
    {
     "data": {
      "image/png": "[encoded data removed]",
      "text/plain": [
       "<Figure size 1152x576 with 1 Axes>"
      ]
     },
     "metadata": {},
     "output_type": "display_data"
    }
   ],
   "source": [
    "# A count plot that displays how the chocolate bars' average proportion of cocoa is distributed\n",
    "plt.figure(figsize=(16,8))\n",
    "sns.countplot(data = df_chocs,x=df_chocs[\"cocoa_percent\"])\\\n",
    ".set(title=\"Cocoa percentage in the chocolates\")\n",
    "plt.xticks(rotation=90);"
   ]
  },
  {
   "cell_type": "markdown",
   "id": "80d0e53d",
   "metadata": {},
   "source": [
    "###### Observation\n",
    "Most chocolate bars had a cacao proportion of  70%, per the analysis.\n",
    "\n",
    "#### Feature `num_ingredients`"
   ]
  },
  {
   "cell_type": "code",
   "execution_count": 86,
   "id": "ff61ede1",
   "metadata": {},
   "outputs": [
    {
     "data": {
      "text/plain": [
       "3.00000    709\n",
       "2.00000    575\n",
       "4.00000    352\n",
       "5.00000    110\n",
       "3.00057     64\n",
       "6.00000      4\n",
       "1.00000      4\n",
       "Name: num_ingredients, dtype: int64"
      ]
     },
     "execution_count": 86,
     "metadata": {},
     "output_type": "execute_result"
    }
   ],
   "source": [
    "# num_ingredients value count\n",
    "df_chocs['num_ingredients'].value_counts()"
   ]
  },
  {
   "cell_type": "code",
   "execution_count": 87,
   "id": "d54e6e16",
   "metadata": {},
   "outputs": [
    {
     "data": {
      "image/png": "[encoded data removed]",
      "text/plain": [
       "<Figure size 1152x576 with 1 Axes>"
      ]
     },
     "metadata": {},
     "output_type": "display_data"
    }
   ],
   "source": [
    "# Count plot for the number of ingredients used to make a chocolate bar\n",
    "plt.figure(figsize=(16,8))\n",
    "sns.countplot(data = df_chocs,x=df_chocs[\"num_ingredients\"])\\\n",
    ".set(title=\"Count of number of ingredients in each chocolate bar\")\n",
    "plt.xticks(rotation=90);"
   ]
  },
  {
   "cell_type": "markdown",
   "id": "7e039cb3",
   "metadata": {},
   "source": [
    "###### Observation\n",
    "The analysis revealed that the majority of the chocolates only contained three ingredients.\n",
    "\n",
    "#### Feature `ingredients`"
   ]
  },
  {
   "cell_type": "code",
   "execution_count": 88,
   "id": "bbbd4a2a",
   "metadata": {},
   "outputs": [
    {
     "data": {
      "text/plain": [
       "\"B,S,C\"           760\n",
       "\"B,S\"             551\n",
       "\"B,S,C,L\"         231\n",
       "\"B,S,C,V\"         108\n",
       "\"B,S,C,V,L\"       104\n",
       "\"B,S*\"             24\n",
       "\"B,S*,C\"            6\n",
       "\"B,S,C,V,Sa\"        6\n",
       "B                   4\n",
       "\"B,S,V,L\"           4\n",
       "\"B,S,C,V,L,Sa\"      4\n",
       "\"B,S,L\"             3\n",
       "\"B,S,V\"             3\n",
       "\"B,S*,C,Sa\"         3\n",
       "\"B,S*,V,L\"          3\n",
       "\"B,S*,C,L\"          2\n",
       "\"B,S*,Sa\"           1\n",
       "\"B,S,C,Sa\"          1\n",
       "Name: ingredients, dtype: int64"
      ]
     },
     "execution_count": 88,
     "metadata": {},
     "output_type": "execute_result"
    }
   ],
   "source": [
    "# Value counts for ingredients\n",
    "df_chocs['ingredients'].value_counts()"
   ]
  },
  {
   "cell_type": "code",
   "execution_count": 89,
   "id": "84b2a4e6",
   "metadata": {},
   "outputs": [
    {
     "data": {
      "image/png": "[encoded data removed]",
      "text/plain": [
       "<Figure size 1152x576 with 1 Axes>"
      ]
     },
     "metadata": {},
     "output_type": "display_data"
    }
   ],
   "source": [
    "# Count plot for the ingredients used to make a chocolate bar\n",
    "plt.figure(figsize=(16,8))\n",
    "sns.countplot(data = df_chocs,x=df_chocs[\"ingredients\"])\\\n",
    ".set(title=\"Most used ingredients for chocolate bars\")\n",
    "plt.xticks(rotation=90);"
   ]
  },
  {
   "cell_type": "markdown",
   "id": "3706e0d3",
   "metadata": {},
   "source": [
    "##### *Observation*\n",
    "The majority of the chocolate bar, according to the research, contained beans, sugar, and cocoa butter.\n",
    "\n",
    "####  Feature `rating`"
   ]
  },
  {
   "cell_type": "code",
   "execution_count": 90,
   "id": "f8fbc795",
   "metadata": {},
   "outputs": [
    {
     "data": {
      "text/plain": [
       "3.50    416\n",
       "3.00    373\n",
       "3.25    325\n",
       "2.75    245\n",
       "3.75    208\n",
       "2.50    128\n",
       "4.00     75\n",
       "2.00     21\n",
       "2.25     13\n",
       "1.50      7\n",
       "1.00      4\n",
       "1.75      3\n",
       "Name: rating, dtype: int64"
      ]
     },
     "execution_count": 90,
     "metadata": {},
     "output_type": "execute_result"
    }
   ],
   "source": [
    "# Value counts for ingredients\n",
    "df_chocs['rating'].value_counts()"
   ]
  },
  {
   "cell_type": "markdown",
   "id": "553827d5",
   "metadata": {},
   "source": [
    "##### Observations\n",
    "The majority of the chocolate bars received ratings of 3.50, indicating that the reviewers thought the confections were pleasant and would suggest them to others."
   ]
  },
  {
   "cell_type": "markdown",
   "id": "02d65272",
   "metadata": {},
   "source": [
    "### Bivariate Analysis\n",
    "\n",
    "#### What is the relationship between `manufacturer` and `rating`"
   ]
  },
  {
   "cell_type": "code",
   "execution_count": 91,
   "id": "fde6d9bb",
   "metadata": {},
   "outputs": [
    {
     "data": {
      "text/html": [
       "<div>\n",
       "<style scoped>\n",
       "    .dataframe tbody tr th:only-of-type {\n",
       "        vertical-align: middle;\n",
       "    }\n",
       "\n",
       "    .dataframe tbody tr th {\n",
       "        vertical-align: top;\n",
       "    }\n",
       "\n",
       "    .dataframe thead th {\n",
       "        text-align: right;\n",
       "    }\n",
       "</style>\n",
       "<table border=\"1\" class=\"dataframe\">\n",
       "  <thead>\n",
       "    <tr style=\"text-align: right;\">\n",
       "      <th></th>\n",
       "      <th>manufacturer</th>\n",
       "      <th>rating</th>\n",
       "    </tr>\n",
       "  </thead>\n",
       "  <tbody>\n",
       "    <tr>\n",
       "      <th>255</th>\n",
       "      <td>Heirloom Cacao Preservation (Zokoko)</td>\n",
       "      <td>3.8750</td>\n",
       "    </tr>\n",
       "    <tr>\n",
       "      <th>403</th>\n",
       "      <td>Ocelot</td>\n",
       "      <td>3.8750</td>\n",
       "    </tr>\n",
       "    <tr>\n",
       "      <th>348</th>\n",
       "      <td>Matale</td>\n",
       "      <td>3.8125</td>\n",
       "    </tr>\n",
       "    <tr>\n",
       "      <th>264</th>\n",
       "      <td>Idilio (Felchlin)</td>\n",
       "      <td>3.7750</td>\n",
       "    </tr>\n",
       "    <tr>\n",
       "      <th>393</th>\n",
       "      <td>Nikoa</td>\n",
       "      <td>3.7500</td>\n",
       "    </tr>\n",
       "    <tr>\n",
       "      <th>...</th>\n",
       "      <td>...</td>\n",
       "      <td>...</td>\n",
       "    </tr>\n",
       "    <tr>\n",
       "      <th>270</th>\n",
       "      <td>Jacque Torres</td>\n",
       "      <td>2.0000</td>\n",
       "    </tr>\n",
       "    <tr>\n",
       "      <th>98</th>\n",
       "      <td>Casa</td>\n",
       "      <td>2.0000</td>\n",
       "    </tr>\n",
       "    <tr>\n",
       "      <th>323</th>\n",
       "      <td>Machu Picchu Trading Co.</td>\n",
       "      <td>1.8750</td>\n",
       "    </tr>\n",
       "    <tr>\n",
       "      <th>91</th>\n",
       "      <td>Callebaut</td>\n",
       "      <td>1.8750</td>\n",
       "    </tr>\n",
       "    <tr>\n",
       "      <th>148</th>\n",
       "      <td>Cote d' Or (Kraft)</td>\n",
       "      <td>1.0000</td>\n",
       "    </tr>\n",
       "  </tbody>\n",
       "</table>\n",
       "<p>427 rows × 2 columns</p>\n",
       "</div>"
      ],
      "text/plain": [
       "                             manufacturer  rating\n",
       "255  Heirloom Cacao Preservation (Zokoko)  3.8750\n",
       "403                                Ocelot  3.8750\n",
       "348                                Matale  3.8125\n",
       "264                     Idilio (Felchlin)  3.7750\n",
       "393                                 Nikoa  3.7500\n",
       "..                                    ...     ...\n",
       "270                         Jacque Torres  2.0000\n",
       "98                                   Casa  2.0000\n",
       "323              Machu Picchu Trading Co.  1.8750\n",
       "91                              Callebaut  1.8750\n",
       "148                    Cote d' Or (Kraft)  1.0000\n",
       "\n",
       "[427 rows x 2 columns]"
      ]
     },
     "execution_count": 91,
     "metadata": {},
     "output_type": "execute_result"
    }
   ],
   "source": [
    "# Manufacturers that had the highest average rating to the lowest average rating\n",
    "manufacturer_rating = (\n",
    "    df_chocs\n",
    "    .groupby(\"manufacturer\")\n",
    "    .rating.mean()\n",
    "    .reset_index()\n",
    "    .sort_values(by='rating',ascending=False)\n",
    ")\n",
    "manufacturer_rating"
   ]
  },
  {
   "cell_type": "code",
   "execution_count": 92,
   "id": "f3ee7960",
   "metadata": {},
   "outputs": [
    {
     "data": {
      "image/png": "[encoded data removed]",
      "text/plain": [
       "<Figure size 1152x576 with 1 Axes>"
      ]
     },
     "metadata": {},
     "output_type": "display_data"
    }
   ],
   "source": [
    "# Bar plot showing the top 20 manufactures whos chocolates were highly rated\n",
    "plt.figure(figsize=(16,8))\n",
    "sns.barplot(data = manufacturer_rating[:20],x = 'manufacturer', y = 'rating')\n",
    "plt.xticks(rotation=90);"
   ]
  },
  {
   "cell_type": "markdown",
   "id": "9d5eacdd",
   "metadata": {},
   "source": [
    "##### Observations\n",
    "According to the analysis, 'Heirloom Cacao Preservation (Zokoko)' created chocolates with the best rating, indicating that consumers like their chocolates, whilst 'Cote d'Or (Kraft)' produced chocolates with the lowest rating, indicating that customers disliked their chocolates.\n",
    "\n",
    "#### What is the relationship between `company_location` and `rating`"
   ]
  },
  {
   "cell_type": "code",
   "execution_count": 93,
   "id": "65b104d0",
   "metadata": {},
   "outputs": [
    {
     "data": {
      "text/html": [
       "<div>\n",
       "<style scoped>\n",
       "    .dataframe tbody tr th:only-of-type {\n",
       "        vertical-align: middle;\n",
       "    }\n",
       "\n",
       "    .dataframe tbody tr th {\n",
       "        vertical-align: top;\n",
       "    }\n",
       "\n",
       "    .dataframe thead th {\n",
       "        text-align: right;\n",
       "    }\n",
       "</style>\n",
       "<table border=\"1\" class=\"dataframe\">\n",
       "  <thead>\n",
       "    <tr style=\"text-align: right;\">\n",
       "      <th></th>\n",
       "      <th>company_location</th>\n",
       "      <th>rating</th>\n",
       "    </tr>\n",
       "  </thead>\n",
       "  <tbody>\n",
       "    <tr>\n",
       "      <th>8</th>\n",
       "      <td>Chile</td>\n",
       "      <td>3.750000</td>\n",
       "    </tr>\n",
       "    <tr>\n",
       "      <th>41</th>\n",
       "      <td>Poland</td>\n",
       "      <td>3.500000</td>\n",
       "    </tr>\n",
       "    <tr>\n",
       "      <th>63</th>\n",
       "      <td>Vietnam</td>\n",
       "      <td>3.428571</td>\n",
       "    </tr>\n",
       "    <tr>\n",
       "      <th>21</th>\n",
       "      <td>Guatemala</td>\n",
       "      <td>3.416667</td>\n",
       "    </tr>\n",
       "    <tr>\n",
       "      <th>58</th>\n",
       "      <td>U.A.E.</td>\n",
       "      <td>3.400000</td>\n",
       "    </tr>\n",
       "    <tr>\n",
       "      <th>...</th>\n",
       "      <td>...</td>\n",
       "      <td>...</td>\n",
       "    </tr>\n",
       "    <tr>\n",
       "      <th>61</th>\n",
       "      <td>Vanuatu</td>\n",
       "      <td>2.750000</td>\n",
       "    </tr>\n",
       "    <tr>\n",
       "      <th>19</th>\n",
       "      <td>Ghana</td>\n",
       "      <td>2.750000</td>\n",
       "    </tr>\n",
       "    <tr>\n",
       "      <th>64</th>\n",
       "      <td>Wales</td>\n",
       "      <td>2.750000</td>\n",
       "    </tr>\n",
       "    <tr>\n",
       "      <th>43</th>\n",
       "      <td>Puerto Rico</td>\n",
       "      <td>2.625000</td>\n",
       "    </tr>\n",
       "    <tr>\n",
       "      <th>25</th>\n",
       "      <td>India</td>\n",
       "      <td>2.500000</td>\n",
       "    </tr>\n",
       "  </tbody>\n",
       "</table>\n",
       "<p>65 rows × 2 columns</p>\n",
       "</div>"
      ],
      "text/plain": [
       "   company_location    rating\n",
       "8             Chile  3.750000\n",
       "41           Poland  3.500000\n",
       "63          Vietnam  3.428571\n",
       "21        Guatemala  3.416667\n",
       "58           U.A.E.  3.400000\n",
       "..              ...       ...\n",
       "61          Vanuatu  2.750000\n",
       "19            Ghana  2.750000\n",
       "64            Wales  2.750000\n",
       "43      Puerto Rico  2.625000\n",
       "25            India  2.500000\n",
       "\n",
       "[65 rows x 2 columns]"
      ]
     },
     "execution_count": 93,
     "metadata": {},
     "output_type": "execute_result"
    }
   ],
   "source": [
    "# location of the companies that had the highest average rating to the lowest average rating\n",
    "company_location_rating = (\n",
    "    df_chocs\n",
    "    .groupby(\"company_location\")\n",
    "    .rating.mean()\n",
    "    .reset_index()\n",
    "    .sort_values(by='rating',ascending=False)\n",
    ")\n",
    "company_location_rating"
   ]
  },
  {
   "cell_type": "code",
   "execution_count": 94,
   "id": "ed9abb72",
   "metadata": {},
   "outputs": [
    {
     "data": {
      "image/png": "[encoded data removed]",
      "text/plain": [
       "<Figure size 1152x576 with 1 Axes>"
      ]
     },
     "metadata": {},
     "output_type": "display_data"
    }
   ],
   "source": [
    "# Bar plot showing the top 20 manufactures whos chocolates were highly rated\n",
    "plt.figure(figsize=(16,8))\n",
    "sns.barplot(data = company_location_rating[:20],x = 'company_location', y = 'rating')\n",
    "plt.xticks(rotation=90);"
   ]
  },
  {
   "cell_type": "markdown",
   "id": "c973f5c4",
   "metadata": {},
   "source": [
    "##### Observations\n",
    "The data reveals that the Chilean companies got the highest average ratings, indicating that they made the greatest chocolate bars.\n",
    "\n",
    "#### What is the relationship between `bean_origin` and `rating`"
   ]
  },
  {
   "cell_type": "code",
   "execution_count": 107,
   "id": "4be3d76b",
   "metadata": {},
   "outputs": [
    {
     "data": {
      "text/html": [
       "<div>\n",
       "<style scoped>\n",
       "    .dataframe tbody tr th:only-of-type {\n",
       "        vertical-align: middle;\n",
       "    }\n",
       "\n",
       "    .dataframe tbody tr th {\n",
       "        vertical-align: top;\n",
       "    }\n",
       "\n",
       "    .dataframe thead th {\n",
       "        text-align: right;\n",
       "    }\n",
       "</style>\n",
       "<table border=\"1\" class=\"dataframe\">\n",
       "  <thead>\n",
       "    <tr style=\"text-align: right;\">\n",
       "      <th></th>\n",
       "      <th>bean_origin</th>\n",
       "      <th>rating</th>\n",
       "    </tr>\n",
       "  </thead>\n",
       "  <tbody>\n",
       "    <tr>\n",
       "      <th>8</th>\n",
       "      <td>Congo</td>\n",
       "      <td>3.500000</td>\n",
       "    </tr>\n",
       "    <tr>\n",
       "      <th>39</th>\n",
       "      <td>Sao Tome &amp; Principe</td>\n",
       "      <td>3.500000</td>\n",
       "    </tr>\n",
       "    <tr>\n",
       "      <th>41</th>\n",
       "      <td>Solomon Islands</td>\n",
       "      <td>3.500000</td>\n",
       "    </tr>\n",
       "    <tr>\n",
       "      <th>19</th>\n",
       "      <td>Haiti</td>\n",
       "      <td>3.441176</td>\n",
       "    </tr>\n",
       "    <tr>\n",
       "      <th>20</th>\n",
       "      <td>Honduras</td>\n",
       "      <td>3.352941</td>\n",
       "    </tr>\n",
       "    <tr>\n",
       "      <th>18</th>\n",
       "      <td>Guatemala</td>\n",
       "      <td>3.303191</td>\n",
       "    </tr>\n",
       "    <tr>\n",
       "      <th>48</th>\n",
       "      <td>Thailand</td>\n",
       "      <td>3.300000</td>\n",
       "    </tr>\n",
       "    <tr>\n",
       "      <th>52</th>\n",
       "      <td>U.S.A.</td>\n",
       "      <td>3.284483</td>\n",
       "    </tr>\n",
       "    <tr>\n",
       "      <th>56</th>\n",
       "      <td>Vietnam</td>\n",
       "      <td>3.280702</td>\n",
       "    </tr>\n",
       "    <tr>\n",
       "      <th>4</th>\n",
       "      <td>Brazil</td>\n",
       "      <td>3.275862</td>\n",
       "    </tr>\n",
       "    <tr>\n",
       "      <th>33</th>\n",
       "      <td>Papua New Guinea</td>\n",
       "      <td>3.270833</td>\n",
       "    </tr>\n",
       "    <tr>\n",
       "      <th>30</th>\n",
       "      <td>Nicaragua</td>\n",
       "      <td>3.269481</td>\n",
       "    </tr>\n",
       "    <tr>\n",
       "      <th>26</th>\n",
       "      <td>Madagascar</td>\n",
       "      <td>3.256818</td>\n",
       "    </tr>\n",
       "    <tr>\n",
       "      <th>15</th>\n",
       "      <td>Gabon</td>\n",
       "      <td>3.250000</td>\n",
       "    </tr>\n",
       "    <tr>\n",
       "      <th>49</th>\n",
       "      <td>Tobago</td>\n",
       "      <td>3.250000</td>\n",
       "    </tr>\n",
       "    <tr>\n",
       "      <th>47</th>\n",
       "      <td>Tanzania</td>\n",
       "      <td>3.231818</td>\n",
       "    </tr>\n",
       "    <tr>\n",
       "      <th>11</th>\n",
       "      <td>Dominican Republic</td>\n",
       "      <td>3.230303</td>\n",
       "    </tr>\n",
       "    <tr>\n",
       "      <th>10</th>\n",
       "      <td>Cuba</td>\n",
       "      <td>3.218750</td>\n",
       "    </tr>\n",
       "    <tr>\n",
       "      <th>34</th>\n",
       "      <td>Peru</td>\n",
       "      <td>3.213235</td>\n",
       "    </tr>\n",
       "    <tr>\n",
       "      <th>55</th>\n",
       "      <td>Venezuela</td>\n",
       "      <td>3.210256</td>\n",
       "    </tr>\n",
       "    <tr>\n",
       "      <th>3</th>\n",
       "      <td>Bolivia</td>\n",
       "      <td>3.207547</td>\n",
       "    </tr>\n",
       "    <tr>\n",
       "      <th>35</th>\n",
       "      <td>Philippines</td>\n",
       "      <td>3.205882</td>\n",
       "    </tr>\n",
       "    <tr>\n",
       "      <th>16</th>\n",
       "      <td>Ghana</td>\n",
       "      <td>3.203704</td>\n",
       "    </tr>\n",
       "    <tr>\n",
       "      <th>1</th>\n",
       "      <td>Belize</td>\n",
       "      <td>3.193966</td>\n",
       "    </tr>\n",
       "    <tr>\n",
       "      <th>7</th>\n",
       "      <td>Colombia</td>\n",
       "      <td>3.191667</td>\n",
       "    </tr>\n",
       "    <tr>\n",
       "      <th>51</th>\n",
       "      <td>Trinidad</td>\n",
       "      <td>3.190000</td>\n",
       "    </tr>\n",
       "    <tr>\n",
       "      <th>14</th>\n",
       "      <td>Fiji</td>\n",
       "      <td>3.181818</td>\n",
       "    </tr>\n",
       "    <tr>\n",
       "      <th>29</th>\n",
       "      <td>Mexico</td>\n",
       "      <td>3.180233</td>\n",
       "    </tr>\n",
       "    <tr>\n",
       "      <th>22</th>\n",
       "      <td>Indonesia</td>\n",
       "      <td>3.160714</td>\n",
       "    </tr>\n",
       "    <tr>\n",
       "      <th>24</th>\n",
       "      <td>Jamaica</td>\n",
       "      <td>3.147059</td>\n",
       "    </tr>\n",
       "    <tr>\n",
       "      <th>21</th>\n",
       "      <td>India</td>\n",
       "      <td>3.129630</td>\n",
       "    </tr>\n",
       "    <tr>\n",
       "      <th>37</th>\n",
       "      <td>Samoa</td>\n",
       "      <td>3.125000</td>\n",
       "    </tr>\n",
       "    <tr>\n",
       "      <th>9</th>\n",
       "      <td>Costa Rica</td>\n",
       "      <td>3.109375</td>\n",
       "    </tr>\n",
       "    <tr>\n",
       "      <th>12</th>\n",
       "      <td>Ecuador</td>\n",
       "      <td>3.107595</td>\n",
       "    </tr>\n",
       "    <tr>\n",
       "      <th>54</th>\n",
       "      <td>Vanuatu</td>\n",
       "      <td>3.100000</td>\n",
       "    </tr>\n",
       "    <tr>\n",
       "      <th>27</th>\n",
       "      <td>Malaysia</td>\n",
       "      <td>3.093750</td>\n",
       "    </tr>\n",
       "    <tr>\n",
       "      <th>25</th>\n",
       "      <td>Liberia</td>\n",
       "      <td>3.083333</td>\n",
       "    </tr>\n",
       "    <tr>\n",
       "      <th>50</th>\n",
       "      <td>Togo</td>\n",
       "      <td>3.083333</td>\n",
       "    </tr>\n",
       "    <tr>\n",
       "      <th>32</th>\n",
       "      <td>Panama</td>\n",
       "      <td>3.062500</td>\n",
       "    </tr>\n",
       "    <tr>\n",
       "      <th>45</th>\n",
       "      <td>Sumatra</td>\n",
       "      <td>3.000000</td>\n",
       "    </tr>\n",
       "    <tr>\n",
       "      <th>42</th>\n",
       "      <td>Sri Lanka</td>\n",
       "      <td>3.000000</td>\n",
       "    </tr>\n",
       "    <tr>\n",
       "      <th>0</th>\n",
       "      <td>Australia</td>\n",
       "      <td>3.000000</td>\n",
       "    </tr>\n",
       "    <tr>\n",
       "      <th>38</th>\n",
       "      <td>Sao Tome</td>\n",
       "      <td>3.000000</td>\n",
       "    </tr>\n",
       "    <tr>\n",
       "      <th>31</th>\n",
       "      <td>Nigeria</td>\n",
       "      <td>3.000000</td>\n",
       "    </tr>\n",
       "    <tr>\n",
       "      <th>13</th>\n",
       "      <td>El Salvador</td>\n",
       "      <td>3.000000</td>\n",
       "    </tr>\n",
       "    <tr>\n",
       "      <th>6</th>\n",
       "      <td>Cameroon</td>\n",
       "      <td>3.000000</td>\n",
       "    </tr>\n",
       "    <tr>\n",
       "      <th>5</th>\n",
       "      <td>Burma</td>\n",
       "      <td>3.000000</td>\n",
       "    </tr>\n",
       "    <tr>\n",
       "      <th>17</th>\n",
       "      <td>Grenada</td>\n",
       "      <td>2.964286</td>\n",
       "    </tr>\n",
       "    <tr>\n",
       "      <th>2</th>\n",
       "      <td>Blend</td>\n",
       "      <td>2.955446</td>\n",
       "    </tr>\n",
       "    <tr>\n",
       "      <th>43</th>\n",
       "      <td>St. Lucia</td>\n",
       "      <td>2.950000</td>\n",
       "    </tr>\n",
       "    <tr>\n",
       "      <th>23</th>\n",
       "      <td>Ivory Coast</td>\n",
       "      <td>2.916667</td>\n",
       "    </tr>\n",
       "    <tr>\n",
       "      <th>46</th>\n",
       "      <td>Taiwan</td>\n",
       "      <td>2.875000</td>\n",
       "    </tr>\n",
       "    <tr>\n",
       "      <th>53</th>\n",
       "      <td>Uganda</td>\n",
       "      <td>2.812500</td>\n",
       "    </tr>\n",
       "    <tr>\n",
       "      <th>40</th>\n",
       "      <td>Sierra Leone</td>\n",
       "      <td>2.750000</td>\n",
       "    </tr>\n",
       "    <tr>\n",
       "      <th>44</th>\n",
       "      <td>St.Vincent-Grenadines</td>\n",
       "      <td>2.750000</td>\n",
       "    </tr>\n",
       "    <tr>\n",
       "      <th>28</th>\n",
       "      <td>Martinique</td>\n",
       "      <td>2.750000</td>\n",
       "    </tr>\n",
       "    <tr>\n",
       "      <th>36</th>\n",
       "      <td>Puerto Rico</td>\n",
       "      <td>2.714286</td>\n",
       "    </tr>\n",
       "  </tbody>\n",
       "</table>\n",
       "</div>"
      ],
      "text/plain": [
       "              bean_origin    rating\n",
       "8                   Congo  3.500000\n",
       "39    Sao Tome & Principe  3.500000\n",
       "41        Solomon Islands  3.500000\n",
       "19                  Haiti  3.441176\n",
       "20               Honduras  3.352941\n",
       "18              Guatemala  3.303191\n",
       "48               Thailand  3.300000\n",
       "52                 U.S.A.  3.284483\n",
       "56                Vietnam  3.280702\n",
       "4                  Brazil  3.275862\n",
       "33       Papua New Guinea  3.270833\n",
       "30              Nicaragua  3.269481\n",
       "26             Madagascar  3.256818\n",
       "15                  Gabon  3.250000\n",
       "49                 Tobago  3.250000\n",
       "47               Tanzania  3.231818\n",
       "11     Dominican Republic  3.230303\n",
       "10                   Cuba  3.218750\n",
       "34                   Peru  3.213235\n",
       "55              Venezuela  3.210256\n",
       "3                 Bolivia  3.207547\n",
       "35            Philippines  3.205882\n",
       "16                  Ghana  3.203704\n",
       "1                  Belize  3.193966\n",
       "7                Colombia  3.191667\n",
       "51               Trinidad  3.190000\n",
       "14                   Fiji  3.181818\n",
       "29                 Mexico  3.180233\n",
       "22              Indonesia  3.160714\n",
       "24                Jamaica  3.147059\n",
       "21                  India  3.129630\n",
       "37                  Samoa  3.125000\n",
       "9              Costa Rica  3.109375\n",
       "12                Ecuador  3.107595\n",
       "54                Vanuatu  3.100000\n",
       "27               Malaysia  3.093750\n",
       "25                Liberia  3.083333\n",
       "50                   Togo  3.083333\n",
       "32                 Panama  3.062500\n",
       "45                Sumatra  3.000000\n",
       "42              Sri Lanka  3.000000\n",
       "0               Australia  3.000000\n",
       "38               Sao Tome  3.000000\n",
       "31                Nigeria  3.000000\n",
       "13            El Salvador  3.000000\n",
       "6                Cameroon  3.000000\n",
       "5                   Burma  3.000000\n",
       "17                Grenada  2.964286\n",
       "2                   Blend  2.955446\n",
       "43              St. Lucia  2.950000\n",
       "23            Ivory Coast  2.916667\n",
       "46                 Taiwan  2.875000\n",
       "53                 Uganda  2.812500\n",
       "40           Sierra Leone  2.750000\n",
       "44  St.Vincent-Grenadines  2.750000\n",
       "28             Martinique  2.750000\n",
       "36            Puerto Rico  2.714286"
      ]
     },
     "execution_count": 107,
     "metadata": {},
     "output_type": "execute_result"
    }
   ],
   "source": [
    "beans_origin_rating = (\n",
    "    df_chocs\n",
    "    .groupby(\"bean_origin\")\n",
    "    .rating.mean()\n",
    "    .reset_index()\n",
    "    .sort_values(by='rating',ascending=False)\n",
    ")\n",
    "beans_origin_rating"
   ]
  },
  {
   "cell_type": "code",
   "execution_count": 109,
   "id": "c430e5e7",
   "metadata": {},
   "outputs": [
    {
     "data": {
      "image/png": "[encoded data removed]",
      "text/plain": [
       "<Figure size 1152x576 with 1 Axes>"
      ]
     },
     "metadata": {},
     "output_type": "display_data"
    }
   ],
   "source": [
    "# Bar plot showing the top 20 bean_origin whos chocolates were highly rated\n",
    "plt.figure(figsize=(16,8))\n",
    "sns.barplot(data = beans_origin_rating[:20],x = 'bean_origin', y = 'rating')\n",
    "plt.xticks(rotation=90);"
   ]
  },
  {
   "cell_type": "markdown",
   "id": "8864ce1e",
   "metadata": {},
   "source": [
    "##### Observation\n",
    "The analysis shows that the bean origin of the most rated chocolates was from `Congo`.\n",
    "\n",
    "#### What is the relationship between `cocoa_percent` and `rating`"
   ]
  },
  {
   "cell_type": "code",
   "execution_count": 129,
   "id": "5918f41e",
   "metadata": {},
   "outputs": [
    {
     "data": {
      "text/html": [
       "<div>\n",
       "<style scoped>\n",
       "    .dataframe tbody tr th:only-of-type {\n",
       "        vertical-align: middle;\n",
       "    }\n",
       "\n",
       "    .dataframe tbody tr th {\n",
       "        vertical-align: top;\n",
       "    }\n",
       "\n",
       "    .dataframe thead th {\n",
       "        text-align: right;\n",
       "    }\n",
       "</style>\n",
       "<table border=\"1\" class=\"dataframe\">\n",
       "  <thead>\n",
       "    <tr style=\"text-align: right;\">\n",
       "      <th></th>\n",
       "      <th>cocoa_percent</th>\n",
       "      <th>rating</th>\n",
       "    </tr>\n",
       "  </thead>\n",
       "  <tbody>\n",
       "    <tr>\n",
       "      <th>2</th>\n",
       "      <td>50.0</td>\n",
       "      <td>3.750000</td>\n",
       "    </tr>\n",
       "    <tr>\n",
       "      <th>11</th>\n",
       "      <td>63.0</td>\n",
       "      <td>3.479167</td>\n",
       "    </tr>\n",
       "    <tr>\n",
       "      <th>17</th>\n",
       "      <td>69.0</td>\n",
       "      <td>3.400000</td>\n",
       "    </tr>\n",
       "    <tr>\n",
       "      <th>15</th>\n",
       "      <td>67.0</td>\n",
       "      <td>3.375000</td>\n",
       "    </tr>\n",
       "    <tr>\n",
       "      <th>14</th>\n",
       "      <td>66.0</td>\n",
       "      <td>3.362500</td>\n",
       "    </tr>\n",
       "    <tr>\n",
       "      <th>16</th>\n",
       "      <td>68.0</td>\n",
       "      <td>3.348039</td>\n",
       "    </tr>\n",
       "    <tr>\n",
       "      <th>29</th>\n",
       "      <td>78.0</td>\n",
       "      <td>3.296875</td>\n",
       "    </tr>\n",
       "    <tr>\n",
       "      <th>18</th>\n",
       "      <td>70.0</td>\n",
       "      <td>3.262433</td>\n",
       "    </tr>\n",
       "    <tr>\n",
       "      <th>30</th>\n",
       "      <td>79.0</td>\n",
       "      <td>3.250000</td>\n",
       "    </tr>\n",
       "    <tr>\n",
       "      <th>4</th>\n",
       "      <td>56.0</td>\n",
       "      <td>3.250000</td>\n",
       "    </tr>\n",
       "    <tr>\n",
       "      <th>36</th>\n",
       "      <td>86.0</td>\n",
       "      <td>3.250000</td>\n",
       "    </tr>\n",
       "    <tr>\n",
       "      <th>25</th>\n",
       "      <td>74.0</td>\n",
       "      <td>3.227679</td>\n",
       "    </tr>\n",
       "    <tr>\n",
       "      <th>21</th>\n",
       "      <td>72.0</td>\n",
       "      <td>3.196203</td>\n",
       "    </tr>\n",
       "    <tr>\n",
       "      <th>23</th>\n",
       "      <td>73.0</td>\n",
       "      <td>3.166667</td>\n",
       "    </tr>\n",
       "    <tr>\n",
       "      <th>13</th>\n",
       "      <td>65.0</td>\n",
       "      <td>3.144928</td>\n",
       "    </tr>\n",
       "    <tr>\n",
       "      <th>26</th>\n",
       "      <td>75.0</td>\n",
       "      <td>3.132653</td>\n",
       "    </tr>\n",
       "    <tr>\n",
       "      <th>24</th>\n",
       "      <td>73.5</td>\n",
       "      <td>3.125000</td>\n",
       "    </tr>\n",
       "    <tr>\n",
       "      <th>20</th>\n",
       "      <td>71.5</td>\n",
       "      <td>3.125000</td>\n",
       "    </tr>\n",
       "    <tr>\n",
       "      <th>19</th>\n",
       "      <td>71.0</td>\n",
       "      <td>3.108108</td>\n",
       "    </tr>\n",
       "    <tr>\n",
       "      <th>37</th>\n",
       "      <td>88.0</td>\n",
       "      <td>3.100000</td>\n",
       "    </tr>\n",
       "    <tr>\n",
       "      <th>28</th>\n",
       "      <td>77.0</td>\n",
       "      <td>3.083333</td>\n",
       "    </tr>\n",
       "    <tr>\n",
       "      <th>33</th>\n",
       "      <td>82.0</td>\n",
       "      <td>3.076923</td>\n",
       "    </tr>\n",
       "    <tr>\n",
       "      <th>6</th>\n",
       "      <td>58.0</td>\n",
       "      <td>3.071429</td>\n",
       "    </tr>\n",
       "    <tr>\n",
       "      <th>31</th>\n",
       "      <td>80.0</td>\n",
       "      <td>3.070423</td>\n",
       "    </tr>\n",
       "    <tr>\n",
       "      <th>34</th>\n",
       "      <td>83.0</td>\n",
       "      <td>3.062500</td>\n",
       "    </tr>\n",
       "    <tr>\n",
       "      <th>27</th>\n",
       "      <td>76.0</td>\n",
       "      <td>3.060345</td>\n",
       "    </tr>\n",
       "    <tr>\n",
       "      <th>12</th>\n",
       "      <td>64.0</td>\n",
       "      <td>3.056818</td>\n",
       "    </tr>\n",
       "    <tr>\n",
       "      <th>9</th>\n",
       "      <td>61.0</td>\n",
       "      <td>3.041667</td>\n",
       "    </tr>\n",
       "    <tr>\n",
       "      <th>35</th>\n",
       "      <td>85.0</td>\n",
       "      <td>3.008929</td>\n",
       "    </tr>\n",
       "    <tr>\n",
       "      <th>7</th>\n",
       "      <td>60.0</td>\n",
       "      <td>2.993421</td>\n",
       "    </tr>\n",
       "    <tr>\n",
       "      <th>39</th>\n",
       "      <td>90.0</td>\n",
       "      <td>2.900000</td>\n",
       "    </tr>\n",
       "    <tr>\n",
       "      <th>3</th>\n",
       "      <td>55.0</td>\n",
       "      <td>2.892857</td>\n",
       "    </tr>\n",
       "    <tr>\n",
       "      <th>10</th>\n",
       "      <td>62.0</td>\n",
       "      <td>2.892857</td>\n",
       "    </tr>\n",
       "    <tr>\n",
       "      <th>32</th>\n",
       "      <td>81.0</td>\n",
       "      <td>2.850000</td>\n",
       "    </tr>\n",
       "    <tr>\n",
       "      <th>0</th>\n",
       "      <td>42.0</td>\n",
       "      <td>2.750000</td>\n",
       "    </tr>\n",
       "    <tr>\n",
       "      <th>22</th>\n",
       "      <td>72.5</td>\n",
       "      <td>2.750000</td>\n",
       "    </tr>\n",
       "    <tr>\n",
       "      <th>1</th>\n",
       "      <td>46.0</td>\n",
       "      <td>2.750000</td>\n",
       "    </tr>\n",
       "    <tr>\n",
       "      <th>8</th>\n",
       "      <td>60.5</td>\n",
       "      <td>2.750000</td>\n",
       "    </tr>\n",
       "    <tr>\n",
       "      <th>5</th>\n",
       "      <td>57.0</td>\n",
       "      <td>2.750000</td>\n",
       "    </tr>\n",
       "    <tr>\n",
       "      <th>38</th>\n",
       "      <td>89.0</td>\n",
       "      <td>2.500000</td>\n",
       "    </tr>\n",
       "    <tr>\n",
       "      <th>40</th>\n",
       "      <td>91.0</td>\n",
       "      <td>2.250000</td>\n",
       "    </tr>\n",
       "    <tr>\n",
       "      <th>42</th>\n",
       "      <td>100.0</td>\n",
       "      <td>2.216667</td>\n",
       "    </tr>\n",
       "    <tr>\n",
       "      <th>41</th>\n",
       "      <td>99.0</td>\n",
       "      <td>2.000000</td>\n",
       "    </tr>\n",
       "  </tbody>\n",
       "</table>\n",
       "</div>"
      ],
      "text/plain": [
       "    cocoa_percent    rating\n",
       "2            50.0  3.750000\n",
       "11           63.0  3.479167\n",
       "17           69.0  3.400000\n",
       "15           67.0  3.375000\n",
       "14           66.0  3.362500\n",
       "16           68.0  3.348039\n",
       "29           78.0  3.296875\n",
       "18           70.0  3.262433\n",
       "30           79.0  3.250000\n",
       "4            56.0  3.250000\n",
       "36           86.0  3.250000\n",
       "25           74.0  3.227679\n",
       "21           72.0  3.196203\n",
       "23           73.0  3.166667\n",
       "13           65.0  3.144928\n",
       "26           75.0  3.132653\n",
       "24           73.5  3.125000\n",
       "20           71.5  3.125000\n",
       "19           71.0  3.108108\n",
       "37           88.0  3.100000\n",
       "28           77.0  3.083333\n",
       "33           82.0  3.076923\n",
       "6            58.0  3.071429\n",
       "31           80.0  3.070423\n",
       "34           83.0  3.062500\n",
       "27           76.0  3.060345\n",
       "12           64.0  3.056818\n",
       "9            61.0  3.041667\n",
       "35           85.0  3.008929\n",
       "7            60.0  2.993421\n",
       "39           90.0  2.900000\n",
       "3            55.0  2.892857\n",
       "10           62.0  2.892857\n",
       "32           81.0  2.850000\n",
       "0            42.0  2.750000\n",
       "22           72.5  2.750000\n",
       "1            46.0  2.750000\n",
       "8            60.5  2.750000\n",
       "5            57.0  2.750000\n",
       "38           89.0  2.500000\n",
       "40           91.0  2.250000\n",
       "42          100.0  2.216667\n",
       "41           99.0  2.000000"
      ]
     },
     "execution_count": 129,
     "metadata": {},
     "output_type": "execute_result"
    }
   ],
   "source": [
    "cocoa_percent_rating = (\n",
    "    df_chocs\n",
    "    .groupby(\"cocoa_percent\")\n",
    "    .rating.mean()\n",
    "    .reset_index()\n",
    "    .sort_values(by='rating',ascending=False)\n",
    ")\n",
    "cocoa_percent_rating"
   ]
  },
  {
   "cell_type": "code",
   "execution_count": 133,
   "id": "1f1dbf19",
   "metadata": {},
   "outputs": [
    {
     "data": {
      "image/png": "[encoded data removed]",
      "text/plain": [
       "<Figure size 1152x576 with 1 Axes>"
      ]
     },
     "metadata": {},
     "output_type": "display_data"
    }
   ],
   "source": [
    "# Bar plot showing the top 20 cocoa percentage whos chocolates were highly rated\n",
    "plt.figure(figsize=(16,8))\n",
    "sns.barplot(data = cocoa_percent_rating[:20],x = 'cocoa_percent', y = 'rating')\n",
    "plt.xticks(rotation=90);"
   ]
  },
  {
   "cell_type": "markdown",
   "id": "c9a13dad",
   "metadata": {},
   "source": [
    "##### Observations\n",
    "The highest rated chocolates are made up of 50% cocoa.\n",
    "\n",
    "#### What is the relationship between `num_ingredients` and `rating`"
   ]
  },
  {
   "cell_type": "code",
   "execution_count": 136,
   "id": "ec34dc2f",
   "metadata": {},
   "outputs": [
    {
     "data": {
      "text/html": [
       "<div>\n",
       "<style scoped>\n",
       "    .dataframe tbody tr th:only-of-type {\n",
       "        vertical-align: middle;\n",
       "    }\n",
       "\n",
       "    .dataframe tbody tr th {\n",
       "        vertical-align: top;\n",
       "    }\n",
       "\n",
       "    .dataframe thead th {\n",
       "        text-align: right;\n",
       "    }\n",
       "</style>\n",
       "<table border=\"1\" class=\"dataframe\">\n",
       "  <thead>\n",
       "    <tr style=\"text-align: right;\">\n",
       "      <th></th>\n",
       "      <th>num_ingredients</th>\n",
       "      <th>rating</th>\n",
       "    </tr>\n",
       "  </thead>\n",
       "  <tbody>\n",
       "    <tr>\n",
       "      <th>2</th>\n",
       "      <td>3.00000</td>\n",
       "      <td>3.259168</td>\n",
       "    </tr>\n",
       "    <tr>\n",
       "      <th>1</th>\n",
       "      <td>2.00000</td>\n",
       "      <td>3.213478</td>\n",
       "    </tr>\n",
       "    <tr>\n",
       "      <th>4</th>\n",
       "      <td>4.00000</td>\n",
       "      <td>3.129972</td>\n",
       "    </tr>\n",
       "    <tr>\n",
       "      <th>5</th>\n",
       "      <td>5.00000</td>\n",
       "      <td>3.045455</td>\n",
       "    </tr>\n",
       "    <tr>\n",
       "      <th>0</th>\n",
       "      <td>1.00000</td>\n",
       "      <td>2.937500</td>\n",
       "    </tr>\n",
       "    <tr>\n",
       "      <th>6</th>\n",
       "      <td>6.00000</td>\n",
       "      <td>2.937500</td>\n",
       "    </tr>\n",
       "    <tr>\n",
       "      <th>3</th>\n",
       "      <td>3.00057</td>\n",
       "      <td>2.769531</td>\n",
       "    </tr>\n",
       "  </tbody>\n",
       "</table>\n",
       "</div>"
      ],
      "text/plain": [
       "   num_ingredients    rating\n",
       "2          3.00000  3.259168\n",
       "1          2.00000  3.213478\n",
       "4          4.00000  3.129972\n",
       "5          5.00000  3.045455\n",
       "0          1.00000  2.937500\n",
       "6          6.00000  2.937500\n",
       "3          3.00057  2.769531"
      ]
     },
     "execution_count": 136,
     "metadata": {},
     "output_type": "execute_result"
    }
   ],
   "source": [
    "num_ingredients_rating= (\n",
    "    df_chocs\n",
    "    .groupby('num_ingredients')\n",
    "    .rating.mean()\n",
    "    .reset_index()\n",
    "    .sort_values(by ='rating',ascending=False)\n",
    ")\n",
    "\n",
    "num_ingredients_rating"
   ]
  },
  {
   "cell_type": "code",
   "execution_count": 141,
   "id": "cfe66b45",
   "metadata": {},
   "outputs": [
    {
     "data": {
      "image/png": "[encoded data removed]",
      "text/plain": [
       "<Figure size 1152x576 with 1 Axes>"
      ]
     },
     "metadata": {},
     "output_type": "display_data"
    }
   ],
   "source": [
    "plt.figure(figsize=(16,8))\n",
    "sns.barplot(data=num_ingredients_rating,x='num_ingredients',y='rating')\n",
    "plt.xticks(rotation=90)\n",
    "plt.show()"
   ]
  },
  {
   "cell_type": "markdown",
   "id": "610b6323",
   "metadata": {},
   "source": [
    "##### Observation\n",
    "The highest rated chocolates are made of three ingredients.\n",
    "\n",
    "#### What is the relationship between `ingredients` and `rating`"
   ]
  },
  {
   "cell_type": "code",
   "execution_count": 143,
   "id": "c90e6f11",
   "metadata": {},
   "outputs": [
    {
     "data": {
      "text/html": [
       "<div>\n",
       "<style scoped>\n",
       "    .dataframe tbody tr th:only-of-type {\n",
       "        vertical-align: middle;\n",
       "    }\n",
       "\n",
       "    .dataframe tbody tr th {\n",
       "        vertical-align: top;\n",
       "    }\n",
       "\n",
       "    .dataframe thead th {\n",
       "        text-align: right;\n",
       "    }\n",
       "</style>\n",
       "<table border=\"1\" class=\"dataframe\">\n",
       "  <thead>\n",
       "    <tr style=\"text-align: right;\">\n",
       "      <th></th>\n",
       "      <th>ingredients</th>\n",
       "      <th>rating</th>\n",
       "    </tr>\n",
       "  </thead>\n",
       "  <tbody>\n",
       "    <tr>\n",
       "      <th>9</th>\n",
       "      <td>\"B,S,C,Sa\"</td>\n",
       "      <td>3.250000</td>\n",
       "    </tr>\n",
       "    <tr>\n",
       "      <th>0</th>\n",
       "      <td>\"B,S\"</td>\n",
       "      <td>3.226407</td>\n",
       "    </tr>\n",
       "    <tr>\n",
       "      <th>7</th>\n",
       "      <td>\"B,S,C\"</td>\n",
       "      <td>3.225658</td>\n",
       "    </tr>\n",
       "    <tr>\n",
       "      <th>8</th>\n",
       "      <td>\"B,S,C,L\"</td>\n",
       "      <td>3.202381</td>\n",
       "    </tr>\n",
       "    <tr>\n",
       "      <th>15</th>\n",
       "      <td>\"B,S,V\"</td>\n",
       "      <td>3.166667</td>\n",
       "    </tr>\n",
       "    <tr>\n",
       "      <th>6</th>\n",
       "      <td>\"B,S*,V,L\"</td>\n",
       "      <td>3.083333</td>\n",
       "    </tr>\n",
       "    <tr>\n",
       "      <th>11</th>\n",
       "      <td>\"B,S,C,V,L\"</td>\n",
       "      <td>3.060096</td>\n",
       "    </tr>\n",
       "    <tr>\n",
       "      <th>10</th>\n",
       "      <td>\"B,S,C,V\"</td>\n",
       "      <td>3.016204</td>\n",
       "    </tr>\n",
       "    <tr>\n",
       "      <th>16</th>\n",
       "      <td>\"B,S,V,L\"</td>\n",
       "      <td>3.000000</td>\n",
       "    </tr>\n",
       "    <tr>\n",
       "      <th>12</th>\n",
       "      <td>\"B,S,C,V,L,Sa\"</td>\n",
       "      <td>2.937500</td>\n",
       "    </tr>\n",
       "    <tr>\n",
       "      <th>17</th>\n",
       "      <td>B</td>\n",
       "      <td>2.937500</td>\n",
       "    </tr>\n",
       "    <tr>\n",
       "      <th>1</th>\n",
       "      <td>\"B,S*\"</td>\n",
       "      <td>2.916667</td>\n",
       "    </tr>\n",
       "    <tr>\n",
       "      <th>2</th>\n",
       "      <td>\"B,S*,C\"</td>\n",
       "      <td>2.875000</td>\n",
       "    </tr>\n",
       "    <tr>\n",
       "      <th>3</th>\n",
       "      <td>\"B,S*,C,L\"</td>\n",
       "      <td>2.875000</td>\n",
       "    </tr>\n",
       "    <tr>\n",
       "      <th>13</th>\n",
       "      <td>\"B,S,C,V,Sa\"</td>\n",
       "      <td>2.791667</td>\n",
       "    </tr>\n",
       "    <tr>\n",
       "      <th>5</th>\n",
       "      <td>\"B,S*,Sa\"</td>\n",
       "      <td>2.500000</td>\n",
       "    </tr>\n",
       "    <tr>\n",
       "      <th>14</th>\n",
       "      <td>\"B,S,L\"</td>\n",
       "      <td>2.416667</td>\n",
       "    </tr>\n",
       "    <tr>\n",
       "      <th>4</th>\n",
       "      <td>\"B,S*,C,Sa\"</td>\n",
       "      <td>2.000000</td>\n",
       "    </tr>\n",
       "  </tbody>\n",
       "</table>\n",
       "</div>"
      ],
      "text/plain": [
       "       ingredients    rating\n",
       "9       \"B,S,C,Sa\"  3.250000\n",
       "0            \"B,S\"  3.226407\n",
       "7          \"B,S,C\"  3.225658\n",
       "8        \"B,S,C,L\"  3.202381\n",
       "15         \"B,S,V\"  3.166667\n",
       "6       \"B,S*,V,L\"  3.083333\n",
       "11     \"B,S,C,V,L\"  3.060096\n",
       "10       \"B,S,C,V\"  3.016204\n",
       "16       \"B,S,V,L\"  3.000000\n",
       "12  \"B,S,C,V,L,Sa\"  2.937500\n",
       "17               B  2.937500\n",
       "1           \"B,S*\"  2.916667\n",
       "2         \"B,S*,C\"  2.875000\n",
       "3       \"B,S*,C,L\"  2.875000\n",
       "13    \"B,S,C,V,Sa\"  2.791667\n",
       "5        \"B,S*,Sa\"  2.500000\n",
       "14         \"B,S,L\"  2.416667\n",
       "4      \"B,S*,C,Sa\"  2.000000"
      ]
     },
     "execution_count": 143,
     "metadata": {},
     "output_type": "execute_result"
    }
   ],
   "source": [
    "ingredients_rating =(\n",
    "    df_chocs\n",
    "    .groupby('ingredients')\n",
    "    .rating.mean()\n",
    "    .reset_index()\n",
    "    .sort_values(by ='rating',ascending=False)\n",
    ")\n",
    "\n",
    "ingredients_rating"
   ]
  },
  {
   "cell_type": "code",
   "execution_count": 144,
   "id": "981a8966",
   "metadata": {},
   "outputs": [
    {
     "data": {
      "image/png": "[encoded data removed]",
      "text/plain": [
       "<Figure size 1152x576 with 1 Axes>"
      ]
     },
     "metadata": {},
     "output_type": "display_data"
    }
   ],
   "source": [
    "plt.figure(figsize=(16,8))\n",
    "sns.barplot(data=ingredients_rating,x='ingredients',y='rating')\n",
    "plt.xticks(rotation=90)\n",
    "plt.show()"
   ]
  },
  {
   "cell_type": "markdown",
   "id": "58f22ef7",
   "metadata": {},
   "source": [
    "##### Observations\n",
    "Chocolates that were made of  Beans, Sugar, Cocoa Butter, and Salt had the highest rating"
   ]
  },
  {
   "cell_type": "markdown",
   "id": "f8814abd",
   "metadata": {},
   "source": [
    "## Conclusion\n",
    "\n",
    "* Three ingredients are often included in chocolate bars.\n",
    "* Chocolates of the best quality were prepared with beans from the Congo.\n",
    "* The best chocolates had 50% cocoa by weight.\n",
    "* Beans, sugar, cocoa butter, and salt were used to make high-quality chocolates.\n",
    "* The USA produces the most chocolate.\n",
    "* Venezuela cacao beans are most frequently used to make chocolate."
   ]
  }
 ],
 "metadata": {
  "kernelspec": {
   "display_name": "Python (learn-env)",
   "language": "python",
   "name": "learn-env"
  },
  "language_info": {
   "codemirror_mode": {
    "name": "ipython",
    "version": 3
   },
   "file_extension": ".py",
   "mimetype": "text/x-python",
   "name": "python",
   "nbconvert_exporter": "python",
   "pygments_lexer": "ipython3",
   "version": "3.9.12"
  }
 },
 "nbformat": 4,
 "nbformat_minor": 5
}
