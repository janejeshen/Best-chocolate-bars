{
 "cells": [
  {
   "cell_type": "markdown",
   "id": "8bfcbef0",
   "metadata": {},
   "source": [
    "## BUSINESS UNDERSTANDING "
   ]
  },
  {
   "cell_type": "markdown",
   "id": "df737df3",
   "metadata": {},
   "source": [
    "### Overview\n",
    "People who enjoy chocolate often say, \"If there is no chocolate in heaven, I'm not going.\" Chocolate is not only delicious; dark chocolate is also high in nutrients that can benefit your health. It's one of the best antioxidant sources available, made from the cacao tree's seed. According to research, dark chocolate can improve your health and lower your risk of heart disease. Dark chocolate's antioxidants have been shown to lower blood pressure, reduce the risk of clotting, and increase blood circulation to the heart, lowering the risks of stroke, coronary heart disease, and heart disease death.\n",
    "\n",
    "### Problem Statement\n",
    "Gourmet chocolate bars are something that Willy Wonka's Chocolate wants to add. In order to influence our initial approach to potential suppliers, we want to know what qualities the highest rated chocolate has.\n",
    "\n",
    "### Objectives\n",
    "To find out if the cacao beans' country of origin affects the grade.\n",
    "\n",
    "To find out if ratings vary depending on the percentage of cocoa in the bar.\n",
    "\n",
    "To see if the number of ingredients affects the rating.\n",
    "\n",
    "To find out if the type of ingredients affects the rating.\n",
    "\n",
    "### Business Question\n",
    "Which country are cocoa beans most commonly from?\n",
    "\n",
    "Which ingredients are most widely used?\n",
    "\n",
    "How many ingredients does the best-rated chocolate have?\n",
    "\n",
    "### Expected Benefits to the Organization\n",
    "We can reduce our supplier search with its assistance."
   ]
  },
  {
   "cell_type": "markdown",
   "id": "483f0418",
   "metadata": {},
   "source": [
    "## Data Understanding\n",
    "\n",
    "### Overview\n",
    "I'll attempt to learn more from the provided information so that Willy Wonka's Chocolate can focus its supplier search.\n",
    "\n",
    "### Data Description\n",
    "\n",
    "* \"id\" - id number of the review\n",
    "* \"manufacturer\" - Name of the bar manufacturer\n",
    "* \"company_location\" - Location of the manufacturer\n",
    "* \"year_reviewed\" - From 2006 to 2021\n",
    "* \"bean_origin\" - Country of origin of the cacao beans\n",
    "* \"bar_name\" - Name of the chocolate bar\n",
    "* \"cocoa_percent\" - Cocoa content of the bar (%)\n",
    "* \"num_ingredients\" - Number of ingredients\n",
    "* \"ingredients\" - B (Beans), S (Sugar), S* (Sweetener other than sugar or beet sugar), C (Cocoa Butter), (V) Vanilla, (L) Lecithin, (Sa) Salt\n",
    "* \"review\" - Summary of most memorable characteristics of the chocolate bar\n",
    "* \"rating\" - 1.0-1.9 Unpleasant, 2.0-2.9 Disappointing, 3.0-3.49 Recommended, 3.5-3.9 Highly Recommended, 4.0-5.0 Oustanding"
   ]
  },
  {
   "cell_type": "code",
   "execution_count": 178,
   "id": "d7488201",
   "metadata": {},
   "outputs": [],
   "source": [
    "# Importing the necessary libraries\n",
    "import pandas as pd\n",
    "import numpy as np\n",
    "import scipy.stats\n",
    "\n",
    "# Import visualization libraries\n",
    "import matplotlib.pyplot as plt\n",
    "%matplotlib inline\n",
    "import seaborn as sns\n",
    "\n",
    "plt.style.use('ggplot')\n",
    "\n",
    "import warnings\n",
    "warnings.filterwarnings(\"ignore\")"
   ]
  },
  {
   "cell_type": "code",
   "execution_count": 179,
   "id": "b8d69d21",
   "metadata": {},
   "outputs": [],
   "source": [
    "# Loading the data\n",
    "df_chocs =pd.read_csv(\"Data\\chocolate bars.csv\")"
   ]
  },
  {
   "cell_type": "code",
   "execution_count": 180,
   "id": "e8ec16ed",
   "metadata": {},
   "outputs": [
    {
     "data": {
      "text/html": [
       "<div>\n",
       "<style scoped>\n",
       "    .dataframe tbody tr th:only-of-type {\n",
       "        vertical-align: middle;\n",
       "    }\n",
       "\n",
       "    .dataframe tbody tr th {\n",
       "        vertical-align: top;\n",
       "    }\n",
       "\n",
       "    .dataframe thead th {\n",
       "        text-align: right;\n",
       "    }\n",
       "</style>\n",
       "<table border=\"1\" class=\"dataframe\">\n",
       "  <thead>\n",
       "    <tr style=\"text-align: right;\">\n",
       "      <th></th>\n",
       "      <th>id</th>\n",
       "      <th>manufacturer</th>\n",
       "      <th>company_location</th>\n",
       "      <th>year_reviewed</th>\n",
       "      <th>bean_origin</th>\n",
       "      <th>bar_name</th>\n",
       "      <th>cocoa_percent</th>\n",
       "      <th>num_ingredients</th>\n",
       "      <th>ingredients</th>\n",
       "      <th>review</th>\n",
       "      <th>rating</th>\n",
       "    </tr>\n",
       "  </thead>\n",
       "  <tbody>\n",
       "    <tr>\n",
       "      <th>0</th>\n",
       "      <td>2454</td>\n",
       "      <td>5150</td>\n",
       "      <td>U.S.A.</td>\n",
       "      <td>2019</td>\n",
       "      <td>Tanzania</td>\n",
       "      <td>\"Kokoa Kamili, batch 1\"</td>\n",
       "      <td>76.0</td>\n",
       "      <td>3.0</td>\n",
       "      <td>\"B,S,C\"</td>\n",
       "      <td>\"rich cocoa, fatty, bready\"</td>\n",
       "      <td>3.25</td>\n",
       "    </tr>\n",
       "    <tr>\n",
       "      <th>1</th>\n",
       "      <td>2458</td>\n",
       "      <td>5150</td>\n",
       "      <td>U.S.A.</td>\n",
       "      <td>2019</td>\n",
       "      <td>Dominican Republic</td>\n",
       "      <td>\"Zorzal, batch 1\"</td>\n",
       "      <td>76.0</td>\n",
       "      <td>3.0</td>\n",
       "      <td>\"B,S,C\"</td>\n",
       "      <td>\"cocoa, vegetal, savory\"</td>\n",
       "      <td>3.50</td>\n",
       "    </tr>\n",
       "    <tr>\n",
       "      <th>2</th>\n",
       "      <td>2454</td>\n",
       "      <td>5150</td>\n",
       "      <td>U.S.A.</td>\n",
       "      <td>2019</td>\n",
       "      <td>Madagascar</td>\n",
       "      <td>\"Bejofo Estate, batch 1\"</td>\n",
       "      <td>76.0</td>\n",
       "      <td>3.0</td>\n",
       "      <td>\"B,S,C\"</td>\n",
       "      <td>\"cocoa, blackberry, full body\"</td>\n",
       "      <td>3.75</td>\n",
       "    </tr>\n",
       "    <tr>\n",
       "      <th>3</th>\n",
       "      <td>2542</td>\n",
       "      <td>5150</td>\n",
       "      <td>U.S.A.</td>\n",
       "      <td>2021</td>\n",
       "      <td>Fiji</td>\n",
       "      <td>\"Matasawalevu, batch 1\"</td>\n",
       "      <td>68.0</td>\n",
       "      <td>3.0</td>\n",
       "      <td>\"B,S,C\"</td>\n",
       "      <td>\"chewy, off, rubbery\"</td>\n",
       "      <td>3.00</td>\n",
       "    </tr>\n",
       "    <tr>\n",
       "      <th>4</th>\n",
       "      <td>2546</td>\n",
       "      <td>5150</td>\n",
       "      <td>U.S.A.</td>\n",
       "      <td>2021</td>\n",
       "      <td>Venezuela</td>\n",
       "      <td>\"Sur del Lago, batch 1\"</td>\n",
       "      <td>72.0</td>\n",
       "      <td>3.0</td>\n",
       "      <td>\"B,S,C\"</td>\n",
       "      <td>\"fatty, earthy, moss, nutty,chalky\"</td>\n",
       "      <td>3.00</td>\n",
       "    </tr>\n",
       "  </tbody>\n",
       "</table>\n",
       "</div>"
      ],
      "text/plain": [
       "     id manufacturer company_location  year_reviewed         bean_origin  \\\n",
       "0  2454         5150           U.S.A.           2019            Tanzania   \n",
       "1  2458         5150           U.S.A.           2019  Dominican Republic   \n",
       "2  2454         5150           U.S.A.           2019          Madagascar   \n",
       "3  2542         5150           U.S.A.           2021                Fiji   \n",
       "4  2546         5150           U.S.A.           2021           Venezuela   \n",
       "\n",
       "                   bar_name  cocoa_percent  num_ingredients ingredients  \\\n",
       "0   \"Kokoa Kamili, batch 1\"           76.0              3.0     \"B,S,C\"   \n",
       "1         \"Zorzal, batch 1\"           76.0              3.0     \"B,S,C\"   \n",
       "2  \"Bejofo Estate, batch 1\"           76.0              3.0     \"B,S,C\"   \n",
       "3   \"Matasawalevu, batch 1\"           68.0              3.0     \"B,S,C\"   \n",
       "4   \"Sur del Lago, batch 1\"           72.0              3.0     \"B,S,C\"   \n",
       "\n",
       "                                review  rating  \n",
       "0          \"rich cocoa, fatty, bready\"    3.25  \n",
       "1             \"cocoa, vegetal, savory\"    3.50  \n",
       "2       \"cocoa, blackberry, full body\"    3.75  \n",
       "3                \"chewy, off, rubbery\"    3.00  \n",
       "4  \"fatty, earthy, moss, nutty,chalky\"    3.00  "
      ]
     },
     "execution_count": 180,
     "metadata": {},
     "output_type": "execute_result"
    }
   ],
   "source": [
    "# previewing the data set\n",
    "df_chocs.head()"
   ]
  },
  {
   "cell_type": "code",
   "execution_count": 181,
   "id": "dfe58cc6",
   "metadata": {},
   "outputs": [
    {
     "data": {
      "text/html": [
       "<div>\n",
       "<style scoped>\n",
       "    .dataframe tbody tr th:only-of-type {\n",
       "        vertical-align: middle;\n",
       "    }\n",
       "\n",
       "    .dataframe tbody tr th {\n",
       "        vertical-align: top;\n",
       "    }\n",
       "\n",
       "    .dataframe thead th {\n",
       "        text-align: right;\n",
       "    }\n",
       "</style>\n",
       "<table border=\"1\" class=\"dataframe\">\n",
       "  <thead>\n",
       "    <tr style=\"text-align: right;\">\n",
       "      <th></th>\n",
       "      <th>id</th>\n",
       "      <th>manufacturer</th>\n",
       "      <th>company_location</th>\n",
       "      <th>year_reviewed</th>\n",
       "      <th>bean_origin</th>\n",
       "      <th>bar_name</th>\n",
       "      <th>cocoa_percent</th>\n",
       "      <th>num_ingredients</th>\n",
       "      <th>ingredients</th>\n",
       "      <th>review</th>\n",
       "      <th>rating</th>\n",
       "    </tr>\n",
       "  </thead>\n",
       "  <tbody>\n",
       "    <tr>\n",
       "      <th>1813</th>\n",
       "      <td>2302</td>\n",
       "      <td>Pangea</td>\n",
       "      <td>Spain</td>\n",
       "      <td>2019</td>\n",
       "      <td>Peru</td>\n",
       "      <td>Chilique</td>\n",
       "      <td>71.0</td>\n",
       "      <td>2.0</td>\n",
       "      <td>\"B,S\"</td>\n",
       "      <td>\"sandy, fruit, cocoa, sour\"</td>\n",
       "      <td>3.5</td>\n",
       "    </tr>\n",
       "    <tr>\n",
       "      <th>1814</th>\n",
       "      <td>1363</td>\n",
       "      <td>Park 75</td>\n",
       "      <td>U.S.A.</td>\n",
       "      <td>2014</td>\n",
       "      <td>Blend</td>\n",
       "      <td>South America</td>\n",
       "      <td>65.0</td>\n",
       "      <td>3.0</td>\n",
       "      <td>\"B,S,V\"</td>\n",
       "      <td>\"mild nutty, basic cocoa\"</td>\n",
       "      <td>3.5</td>\n",
       "    </tr>\n",
       "    <tr>\n",
       "      <th>1815</th>\n",
       "      <td>1251</td>\n",
       "      <td>Parliament</td>\n",
       "      <td>U.S.A.</td>\n",
       "      <td>2014</td>\n",
       "      <td>Bolivia</td>\n",
       "      <td>Alto Beni</td>\n",
       "      <td>70.0</td>\n",
       "      <td>2.0</td>\n",
       "      <td>\"B,S\"</td>\n",
       "      <td>\"gritty, woody, acidic\"</td>\n",
       "      <td>3.0</td>\n",
       "    </tr>\n",
       "    <tr>\n",
       "      <th>1816</th>\n",
       "      <td>1255</td>\n",
       "      <td>Parliament</td>\n",
       "      <td>U.S.A.</td>\n",
       "      <td>2014</td>\n",
       "      <td>Dominican Republic</td>\n",
       "      <td>\"Oko Caribe, batch 4\"</td>\n",
       "      <td>70.0</td>\n",
       "      <td>2.0</td>\n",
       "      <td>\"B,S\"</td>\n",
       "      <td>\"mild spice, grapes\"</td>\n",
       "      <td>3.5</td>\n",
       "    </tr>\n",
       "    <tr>\n",
       "      <th>1817</th>\n",
       "      <td>1542</td>\n",
       "      <td>Parliament</td>\n",
       "      <td>U.S.A.</td>\n",
       "      <td>2015</td>\n",
       "      <td>Guatemala</td>\n",
       "      <td>\"Lachua, Q'egchi families\"</td>\n",
       "      <td>70.0</td>\n",
       "      <td>2.0</td>\n",
       "      <td>\"B,S\"</td>\n",
       "      <td>\"intense, blackberry, acidic\"</td>\n",
       "      <td>3.5</td>\n",
       "    </tr>\n",
       "  </tbody>\n",
       "</table>\n",
       "</div>"
      ],
      "text/plain": [
       "        id manufacturer company_location  year_reviewed         bean_origin  \\\n",
       "1813  2302       Pangea            Spain           2019                Peru   \n",
       "1814  1363      Park 75           U.S.A.           2014               Blend   \n",
       "1815  1251   Parliament           U.S.A.           2014             Bolivia   \n",
       "1816  1255   Parliament           U.S.A.           2014  Dominican Republic   \n",
       "1817  1542   Parliament           U.S.A.           2015           Guatemala   \n",
       "\n",
       "                        bar_name  cocoa_percent  num_ingredients ingredients  \\\n",
       "1813                    Chilique           71.0              2.0       \"B,S\"   \n",
       "1814               South America           65.0              3.0     \"B,S,V\"   \n",
       "1815                   Alto Beni           70.0              2.0       \"B,S\"   \n",
       "1816       \"Oko Caribe, batch 4\"           70.0              2.0       \"B,S\"   \n",
       "1817  \"Lachua, Q'egchi families\"           70.0              2.0       \"B,S\"   \n",
       "\n",
       "                             review  rating  \n",
       "1813    \"sandy, fruit, cocoa, sour\"     3.5  \n",
       "1814      \"mild nutty, basic cocoa\"     3.5  \n",
       "1815        \"gritty, woody, acidic\"     3.0  \n",
       "1816           \"mild spice, grapes\"     3.5  \n",
       "1817  \"intense, blackberry, acidic\"     3.5  "
      ]
     },
     "execution_count": 181,
     "metadata": {},
     "output_type": "execute_result"
    }
   ],
   "source": [
    "# Previewing the last five rows of the data\n",
    "df_chocs.tail()"
   ]
  },
  {
   "cell_type": "code",
   "execution_count": 182,
   "id": "01884aca",
   "metadata": {},
   "outputs": [
    {
     "name": "stdout",
     "output_type": "stream",
     "text": [
      " This data has 1818 rows and 11 columns\n"
     ]
    }
   ],
   "source": [
    "# getting the shape of the data\n",
    "print(f\" This data has {df_chocs.shape[0]} rows and {df_chocs.shape[1]} columns\")"
   ]
  },
  {
   "cell_type": "markdown",
   "id": "1b90ad16",
   "metadata": {},
   "source": [
    "### Preliminary Data Inspection"
   ]
  },
  {
   "cell_type": "code",
   "execution_count": 183,
   "id": "4fb1be52",
   "metadata": {},
   "outputs": [
    {
     "name": "stdout",
     "output_type": "stream",
     "text": [
      "<class 'pandas.core.frame.DataFrame'>\n",
      "RangeIndex: 1818 entries, 0 to 1817\n",
      "Data columns (total 11 columns):\n",
      " #   Column            Non-Null Count  Dtype  \n",
      "---  ------            --------------  -----  \n",
      " 0   id                1818 non-null   int64  \n",
      " 1   manufacturer      1818 non-null   object \n",
      " 2   company_location  1818 non-null   object \n",
      " 3   year_reviewed     1818 non-null   int64  \n",
      " 4   bean_origin       1818 non-null   object \n",
      " 5   bar_name          1818 non-null   object \n",
      " 6   cocoa_percent     1818 non-null   float64\n",
      " 7   num_ingredients   1754 non-null   float64\n",
      " 8   ingredients       1754 non-null   object \n",
      " 9   review            1818 non-null   object \n",
      " 10  rating            1818 non-null   float64\n",
      "dtypes: float64(3), int64(2), object(6)\n",
      "memory usage: 156.4+ KB\n"
     ]
    }
   ],
   "source": [
    "# Getting the 'data' about the data\n",
    "df_chocs.info()"
   ]
  },
  {
   "cell_type": "code",
   "execution_count": 184,
   "id": "21924a2b",
   "metadata": {},
   "outputs": [
    {
     "data": {
      "text/html": [
       "<div>\n",
       "<style scoped>\n",
       "    .dataframe tbody tr th:only-of-type {\n",
       "        vertical-align: middle;\n",
       "    }\n",
       "\n",
       "    .dataframe tbody tr th {\n",
       "        vertical-align: top;\n",
       "    }\n",
       "\n",
       "    .dataframe thead th {\n",
       "        text-align: right;\n",
       "    }\n",
       "</style>\n",
       "<table border=\"1\" class=\"dataframe\">\n",
       "  <thead>\n",
       "    <tr style=\"text-align: right;\">\n",
       "      <th></th>\n",
       "      <th>count</th>\n",
       "      <th>mean</th>\n",
       "      <th>std</th>\n",
       "      <th>min</th>\n",
       "      <th>25%</th>\n",
       "      <th>50%</th>\n",
       "      <th>75%</th>\n",
       "      <th>max</th>\n",
       "    </tr>\n",
       "  </thead>\n",
       "  <tbody>\n",
       "    <tr>\n",
       "      <th>id</th>\n",
       "      <td>1818.0</td>\n",
       "      <td>1443.671617</td>\n",
       "      <td>758.434534</td>\n",
       "      <td>5.0</td>\n",
       "      <td>810.0</td>\n",
       "      <td>1462.00</td>\n",
       "      <td>2108.0</td>\n",
       "      <td>2712.0</td>\n",
       "    </tr>\n",
       "    <tr>\n",
       "      <th>year_reviewed</th>\n",
       "      <td>1818.0</td>\n",
       "      <td>2014.451595</td>\n",
       "      <td>3.960332</td>\n",
       "      <td>2006.0</td>\n",
       "      <td>2012.0</td>\n",
       "      <td>2015.00</td>\n",
       "      <td>2018.0</td>\n",
       "      <td>2021.0</td>\n",
       "    </tr>\n",
       "    <tr>\n",
       "      <th>cocoa_percent</th>\n",
       "      <td>1818.0</td>\n",
       "      <td>71.520627</td>\n",
       "      <td>5.615671</td>\n",
       "      <td>42.0</td>\n",
       "      <td>70.0</td>\n",
       "      <td>70.00</td>\n",
       "      <td>74.0</td>\n",
       "      <td>100.0</td>\n",
       "    </tr>\n",
       "    <tr>\n",
       "      <th>num_ingredients</th>\n",
       "      <td>1754.0</td>\n",
       "      <td>3.000570</td>\n",
       "      <td>0.899705</td>\n",
       "      <td>1.0</td>\n",
       "      <td>2.0</td>\n",
       "      <td>3.00</td>\n",
       "      <td>4.0</td>\n",
       "      <td>6.0</td>\n",
       "    </tr>\n",
       "    <tr>\n",
       "      <th>rating</th>\n",
       "      <td>1818.0</td>\n",
       "      <td>3.188119</td>\n",
       "      <td>0.447606</td>\n",
       "      <td>1.0</td>\n",
       "      <td>3.0</td>\n",
       "      <td>3.25</td>\n",
       "      <td>3.5</td>\n",
       "      <td>4.0</td>\n",
       "    </tr>\n",
       "  </tbody>\n",
       "</table>\n",
       "</div>"
      ],
      "text/plain": [
       "                  count         mean         std     min     25%      50%  \\\n",
       "id               1818.0  1443.671617  758.434534     5.0   810.0  1462.00   \n",
       "year_reviewed    1818.0  2014.451595    3.960332  2006.0  2012.0  2015.00   \n",
       "cocoa_percent    1818.0    71.520627    5.615671    42.0    70.0    70.00   \n",
       "num_ingredients  1754.0     3.000570    0.899705     1.0     2.0     3.00   \n",
       "rating           1818.0     3.188119    0.447606     1.0     3.0     3.25   \n",
       "\n",
       "                    75%     max  \n",
       "id               2108.0  2712.0  \n",
       "year_reviewed    2018.0  2021.0  \n",
       "cocoa_percent      74.0   100.0  \n",
       "num_ingredients     4.0     6.0  \n",
       "rating              3.5     4.0  "
      ]
     },
     "execution_count": 184,
     "metadata": {},
     "output_type": "execute_result"
    }
   ],
   "source": [
    "# Obtaining the summary descriptive statistics of the data\n",
    "df_chocs.describe().T"
   ]
  },
  {
   "cell_type": "markdown",
   "id": "7cc57b66",
   "metadata": {},
   "source": [
    "#### Observations\n",
    "` year_reviewed` should be casted as a datetime object. \n",
    "\n",
    "`id`  should be casted to object."
   ]
  },
  {
   "cell_type": "code",
   "execution_count": 185,
   "id": "3f028e6a",
   "metadata": {},
   "outputs": [
    {
     "data": {
      "text/plain": [
       "object     6\n",
       "float64    3\n",
       "int64      2\n",
       "dtype: int64"
      ]
     },
     "execution_count": 185,
     "metadata": {},
     "output_type": "execute_result"
    }
   ],
   "source": [
    "# Getting the data types of the data\n",
    "df_chocs.dtypes.value_counts()"
   ]
  },
  {
   "cell_type": "markdown",
   "id": "c15f689c",
   "metadata": {},
   "source": [
    "In our dataset, there are 6 string features and 5 numeric characteristics."
   ]
  },
  {
   "cell_type": "markdown",
   "id": "2ebaa2a3",
   "metadata": {},
   "source": [
    "## Data Preparation\n",
    "\n",
    "### Data Cleaning\n",
    "* Checking for missing values\n",
    "* Checking for duplicates\n",
    "* converting incorrect datatypes to appropriate datatypes\n",
    "\n",
    "#### Checking for and handling Missing values"
   ]
  },
  {
   "cell_type": "code",
   "execution_count": 186,
   "id": "9815f7cd",
   "metadata": {},
   "outputs": [
    {
     "data": {
      "text/plain": [
       "num_ingredients     64\n",
       "ingredients         64\n",
       "id                   0\n",
       "manufacturer         0\n",
       "company_location     0\n",
       "year_reviewed        0\n",
       "bean_origin          0\n",
       "bar_name             0\n",
       "cocoa_percent        0\n",
       "review               0\n",
       "rating               0\n",
       "dtype: int64"
      ]
     },
     "execution_count": 186,
     "metadata": {},
     "output_type": "execute_result"
    }
   ],
   "source": [
    "# Checking for null values\n",
    "df_chocs.isna().sum().sort_values(ascending = False)"
   ]
  },
  {
   "cell_type": "code",
   "execution_count": 187,
   "id": "6290cd16",
   "metadata": {},
   "outputs": [
    {
     "data": {
      "text/html": [
       "<div>\n",
       "<style scoped>\n",
       "    .dataframe tbody tr th:only-of-type {\n",
       "        vertical-align: middle;\n",
       "    }\n",
       "\n",
       "    .dataframe tbody tr th {\n",
       "        vertical-align: top;\n",
       "    }\n",
       "\n",
       "    .dataframe thead th {\n",
       "        text-align: right;\n",
       "    }\n",
       "</style>\n",
       "<table border=\"1\" class=\"dataframe\">\n",
       "  <thead>\n",
       "    <tr style=\"text-align: right;\">\n",
       "      <th></th>\n",
       "      <th>percent_missing</th>\n",
       "    </tr>\n",
       "  </thead>\n",
       "  <tbody>\n",
       "    <tr>\n",
       "      <th>num_ingredients</th>\n",
       "      <td>3.520352</td>\n",
       "    </tr>\n",
       "    <tr>\n",
       "      <th>ingredients</th>\n",
       "      <td>3.520352</td>\n",
       "    </tr>\n",
       "    <tr>\n",
       "      <th>id</th>\n",
       "      <td>0.000000</td>\n",
       "    </tr>\n",
       "    <tr>\n",
       "      <th>manufacturer</th>\n",
       "      <td>0.000000</td>\n",
       "    </tr>\n",
       "    <tr>\n",
       "      <th>company_location</th>\n",
       "      <td>0.000000</td>\n",
       "    </tr>\n",
       "    <tr>\n",
       "      <th>year_reviewed</th>\n",
       "      <td>0.000000</td>\n",
       "    </tr>\n",
       "    <tr>\n",
       "      <th>bean_origin</th>\n",
       "      <td>0.000000</td>\n",
       "    </tr>\n",
       "    <tr>\n",
       "      <th>bar_name</th>\n",
       "      <td>0.000000</td>\n",
       "    </tr>\n",
       "    <tr>\n",
       "      <th>cocoa_percent</th>\n",
       "      <td>0.000000</td>\n",
       "    </tr>\n",
       "    <tr>\n",
       "      <th>review</th>\n",
       "      <td>0.000000</td>\n",
       "    </tr>\n",
       "    <tr>\n",
       "      <th>rating</th>\n",
       "      <td>0.000000</td>\n",
       "    </tr>\n",
       "  </tbody>\n",
       "</table>\n",
       "</div>"
      ],
      "text/plain": [
       "                  percent_missing\n",
       "num_ingredients          3.520352\n",
       "ingredients              3.520352\n",
       "id                       0.000000\n",
       "manufacturer             0.000000\n",
       "company_location         0.000000\n",
       "year_reviewed            0.000000\n",
       "bean_origin              0.000000\n",
       "bar_name                 0.000000\n",
       "cocoa_percent            0.000000\n",
       "review                   0.000000\n",
       "rating                   0.000000"
      ]
     },
     "execution_count": 187,
     "metadata": {},
     "output_type": "execute_result"
    }
   ],
   "source": [
    "# checking the column's missing value percentage\n",
    "percent_missing = df_chocs.isnull().sum() * 100 / len(df_chocs)\n",
    "missing_value_df = pd.DataFrame({'percent_missing': percent_missing.sort_values(ascending=False)})\n",
    "missing_value_df"
   ]
  },
  {
   "cell_type": "markdown",
   "id": "9f8c9423",
   "metadata": {},
   "source": [
    "`num_ingredients`\tand `ingredients` columns have missing value."
   ]
  },
  {
   "cell_type": "markdown",
   "id": "e5aef857",
   "metadata": {},
   "source": [
    "#### Handling missing values for `ingredients` column"
   ]
  },
  {
   "cell_type": "code",
   "execution_count": 188,
   "id": "8fcd9c06",
   "metadata": {},
   "outputs": [
    {
     "data": {
      "text/plain": [
       "dtype('O')"
      ]
     },
     "execution_count": 188,
     "metadata": {},
     "output_type": "execute_result"
    }
   ],
   "source": [
    "# checking the data type of ingredients column\n",
    "df_chocs[\"ingredients\"].dtypes"
   ]
  },
  {
   "cell_type": "code",
   "execution_count": 189,
   "id": "c165fe41",
   "metadata": {},
   "outputs": [],
   "source": [
    "# Imputing ingredients column using mode\n",
    "df_chocs['ingredients'] = df_chocs['ingredients'].fillna(df_chocs['ingredients'].mode()[0])"
   ]
  },
  {
   "cell_type": "code",
   "execution_count": 190,
   "id": "bf6d8aef",
   "metadata": {},
   "outputs": [
    {
     "data": {
      "text/plain": [
       "0"
      ]
     },
     "execution_count": 190,
     "metadata": {},
     "output_type": "execute_result"
    }
   ],
   "source": [
    "# Checking if ingredients column has missing values\n",
    "df_chocs[\"ingredients\"].isna().sum()"
   ]
  },
  {
   "cell_type": "markdown",
   "id": "ed5a5965",
   "metadata": {},
   "source": [
    "The mode was used to successfully impute the `ingredients` column."
   ]
  },
  {
   "cell_type": "markdown",
   "id": "b9e217fb",
   "metadata": {},
   "source": [
    "#### Handling missing values for `num_ingredients\t` column"
   ]
  },
  {
   "cell_type": "code",
   "execution_count": 191,
   "id": "500b9ca0",
   "metadata": {},
   "outputs": [
    {
     "data": {
      "text/plain": [
       "dtype('float64')"
      ]
     },
     "execution_count": 191,
     "metadata": {},
     "output_type": "execute_result"
    }
   ],
   "source": [
    "# checking the data type of num_ingredients column\n",
    "df_chocs[\"num_ingredients\"].dtypes"
   ]
  },
  {
   "cell_type": "code",
   "execution_count": 192,
   "id": "bf5a124d",
   "metadata": {},
   "outputs": [
    {
     "data": {
      "text/plain": [
       "count    1754.000000\n",
       "mean        3.000570\n",
       "std         0.899705\n",
       "min         1.000000\n",
       "25%         2.000000\n",
       "50%         3.000000\n",
       "75%         4.000000\n",
       "max         6.000000\n",
       "Name: num_ingredients, dtype: float64"
      ]
     },
     "execution_count": 192,
     "metadata": {},
     "output_type": "execute_result"
    }
   ],
   "source": [
    "# Summary statistics of num_ingredients column\n",
    "df_chocs['num_ingredients'].describe()"
   ]
  },
  {
   "cell_type": "code",
   "execution_count": 193,
   "id": "ccffc04a",
   "metadata": {},
   "outputs": [],
   "source": [
    "# Imputing num_ingredients column using mean\n",
    "df_chocs[\"num_ingredients\"] = df_chocs[\"num_ingredients\"]\\\n",
    ".fillna(df_chocs[\"num_ingredients\"].mean())"
   ]
  },
  {
   "cell_type": "code",
   "execution_count": 194,
   "id": "2b4b6458",
   "metadata": {},
   "outputs": [
    {
     "data": {
      "text/plain": [
       "0"
      ]
     },
     "execution_count": 194,
     "metadata": {},
     "output_type": "execute_result"
    }
   ],
   "source": [
    "# Checking if num_ingredients column has missing values\n",
    "df_chocs[\"num_ingredients\"].isna().sum()"
   ]
  },
  {
   "cell_type": "markdown",
   "id": "9bb3bf0a",
   "metadata": {},
   "source": [
    "The mean was used to successfully impute the `num_ingredients` column"
   ]
  },
  {
   "cell_type": "markdown",
   "id": "3abd7fda",
   "metadata": {},
   "source": [
    "#### Checking for duplicates"
   ]
  },
  {
   "cell_type": "code",
   "execution_count": 195,
   "id": "55a40b40",
   "metadata": {},
   "outputs": [
    {
     "data": {
      "text/plain": [
       "0"
      ]
     },
     "execution_count": 195,
     "metadata": {},
     "output_type": "execute_result"
    }
   ],
   "source": [
    "df_chocs.duplicated().sum()"
   ]
  },
  {
   "cell_type": "markdown",
   "id": "240d8d57",
   "metadata": {},
   "source": [
    "There are no duplicate values in our dataset."
   ]
  },
  {
   "cell_type": "markdown",
   "id": "19cd5fa7",
   "metadata": {},
   "source": [
    "#### Type casting incorrect data types to correct data types"
   ]
  },
  {
   "cell_type": "code",
   "execution_count": 196,
   "id": "437d4614",
   "metadata": {},
   "outputs": [
    {
     "name": "stdout",
     "output_type": "stream",
     "text": [
      "<class 'pandas.core.frame.DataFrame'>\n",
      "RangeIndex: 1818 entries, 0 to 1817\n",
      "Data columns (total 11 columns):\n",
      " #   Column            Non-Null Count  Dtype  \n",
      "---  ------            --------------  -----  \n",
      " 0   id                1818 non-null   int64  \n",
      " 1   manufacturer      1818 non-null   object \n",
      " 2   company_location  1818 non-null   object \n",
      " 3   year_reviewed     1818 non-null   int64  \n",
      " 4   bean_origin       1818 non-null   object \n",
      " 5   bar_name          1818 non-null   object \n",
      " 6   cocoa_percent     1818 non-null   float64\n",
      " 7   num_ingredients   1818 non-null   float64\n",
      " 8   ingredients       1818 non-null   object \n",
      " 9   review            1818 non-null   object \n",
      " 10  rating            1818 non-null   float64\n",
      "dtypes: float64(3), int64(2), object(6)\n",
      "memory usage: 156.4+ KB\n"
     ]
    }
   ],
   "source": [
    "df_chocs.info()"
   ]
  },
  {
   "cell_type": "markdown",
   "id": "d293b387",
   "metadata": {},
   "source": [
    "The columns `id` and `year_reviewed` need to be changed to the appropriate data types, object and datetime, respectively."
   ]
  },
  {
   "cell_type": "code",
   "execution_count": 197,
   "id": "971fd68e",
   "metadata": {},
   "outputs": [],
   "source": [
    "# Converting `id` column into a string\n",
    "df_chocs[\"id\"] = df_chocs[\"id\"].values.astype(str)"
   ]
  },
  {
   "cell_type": "code",
   "execution_count": 198,
   "id": "bf9cf57d",
   "metadata": {},
   "outputs": [
    {
     "data": {
      "text/plain": [
       "dtype('O')"
      ]
     },
     "execution_count": 198,
     "metadata": {},
     "output_type": "execute_result"
    }
   ],
   "source": [
    "# Checking if id is in string data type\n",
    "df_chocs.id.dtypes"
   ]
  },
  {
   "cell_type": "markdown",
   "id": "97d65fc9",
   "metadata": {},
   "source": [
    "The `id` column has been successfully transformed into an object."
   ]
  },
  {
   "cell_type": "code",
   "execution_count": 199,
   "id": "45163aff",
   "metadata": {},
   "outputs": [],
   "source": [
    "# Converting year_reviewed column into datetime\n",
    "df_chocs['year_reviewed'].astype('int32')\n",
    "df_chocs['year_reviewed'] = pd.to_datetime(df_chocs['year_reviewed'],format='%Y')"
   ]
  },
  {
   "cell_type": "code",
   "execution_count": 200,
   "id": "37d65fe1",
   "metadata": {},
   "outputs": [
    {
     "data": {
      "text/plain": [
       "dtype('<M8[ns]')"
      ]
     },
     "execution_count": 200,
     "metadata": {},
     "output_type": "execute_result"
    }
   ],
   "source": [
    "# Checking if year_reviewed is in datetime data type\n",
    "df_chocs['year_reviewed'].dtypes"
   ]
  },
  {
   "cell_type": "markdown",
   "id": "db720de5",
   "metadata": {},
   "source": [
    "The `year_reviewed` column has been successfully transformed into an datetime."
   ]
  },
  {
   "cell_type": "markdown",
   "id": "feabeb1b",
   "metadata": {},
   "source": [
    "## Exploratory Data Analysis\n",
    "\n",
    "In this section, trends and patterns are examined using statistics and visualizations to demonstrate the relationships between the many variables in the data.\n",
    "\n",
    "### Univariate Analysis"
   ]
  },
  {
   "cell_type": "markdown",
   "id": "62031817",
   "metadata": {},
   "source": [
    "#### Feature `manufacturer`"
   ]
  },
  {
   "cell_type": "code",
   "execution_count": 201,
   "id": "0dbd6d16",
   "metadata": {},
   "outputs": [
    {
     "data": {
      "text/plain": [
       "Fresco                39\n",
       "Arete                 32\n",
       "Bonnat                30\n",
       "A. Morin              26\n",
       "Dandelion             25\n",
       "                      ..\n",
       "Charm School           1\n",
       "Cote d' Or (Kraft)     1\n",
       "Madhu                  1\n",
       "Chloe Chocolat         1\n",
       "Love Bar               1\n",
       "Name: manufacturer, Length: 427, dtype: int64"
      ]
     },
     "execution_count": 201,
     "metadata": {},
     "output_type": "execute_result"
    }
   ],
   "source": [
    "# Value counts of manufacturer\n",
    "df_chocs.manufacturer.value_counts()"
   ]
  },
  {
   "cell_type": "code",
   "execution_count": 202,
   "id": "ddf3a15a",
   "metadata": {},
   "outputs": [
    {
     "data": {
      "image/png": "[encoded data removed]",
      "text/plain": [
       "<Figure size 1152x576 with 1 Axes>"
      ]
     },
     "metadata": {},
     "output_type": "display_data"
    }
   ],
   "source": [
    "# Visualizing the top manufacturers\n",
    "plt.figure(figsize=(16,8))\n",
    "sns.barplot(data=df_chocs,x =df_chocs.manufacturer.value_counts().index[:20],\n",
    "            y =df_chocs.manufacturer.value_counts()[:20]).set(title=\"Top 20 chocolate manufacturers\")\n",
    "plt.xticks(rotation=90);"
   ]
  },
  {
   "cell_type": "markdown",
   "id": "af6073a1",
   "metadata": {},
   "source": [
    "The majority of the chocolates were made by \"Fresco\" manufacturers, who also had the highest number of ratings."
   ]
  },
  {
   "cell_type": "markdown",
   "id": "4826fb34",
   "metadata": {},
   "source": [
    "#### Feature `company_location`"
   ]
  },
  {
   "cell_type": "code",
   "execution_count": 203,
   "id": "a5c6fd0c",
   "metadata": {},
   "outputs": [
    {
     "data": {
      "text/plain": [
       "U.S.A.                   813\n",
       "France                   124\n",
       "U.K.                     103\n",
       "Canada                    85\n",
       "Italy                     57\n",
       "                        ... \n",
       "St.Vincent-Grenadines      1\n",
       "India                      1\n",
       "Martinique                 1\n",
       "Ireland                    1\n",
       "Ghana                      1\n",
       "Name: company_location, Length: 65, dtype: int64"
      ]
     },
     "execution_count": 203,
     "metadata": {},
     "output_type": "execute_result"
    }
   ],
   "source": [
    "# Value counts  of company location\n",
    "df_chocs.company_location.value_counts()"
   ]
  },
  {
   "cell_type": "code",
   "execution_count": 204,
   "id": "25863361",
   "metadata": {},
   "outputs": [
    {
     "data": {
      "image/png": "[encoded data removed]",
      "text/plain": [
       "<Figure size 1152x576 with 1 Axes>"
      ]
     },
     "metadata": {},
     "output_type": "display_data"
    }
   ],
   "source": [
    "# Visualizing the top company_location producing lots of chocolate\n",
    "plt.figure(figsize=(16,8))\n",
    "sns.barplot(data=df_chocs,x =df_chocs.company_location.value_counts().index[:20],\n",
    "            y =df_chocs.company_location.value_counts()[:20])\\\n",
    ".set(title=\"Leading Region for Chocolate Production\")\n",
    "plt.xticks(rotation=90);"
   ]
  },
  {
   "cell_type": "markdown",
   "id": "a0e503ef",
   "metadata": {},
   "source": [
    "According to the data, the `USA` is the country that produces the most chocolate, and it also has the most ratings."
   ]
  },
  {
   "cell_type": "markdown",
   "id": "a9a323b7",
   "metadata": {},
   "source": [
    "#### Feature `bean_origin`"
   ]
  },
  {
   "cell_type": "code",
   "execution_count": 208,
   "id": "67982aa9",
   "metadata": {},
   "outputs": [
    {
     "data": {
      "text/plain": [
       "Venezuela                195\n",
       "Peru                     170\n",
       "Dominican Republic       165\n",
       "Ecuador                  158\n",
       "Madagascar               110\n",
       "Blend                    101\n",
       "Nicaragua                 77\n",
       "Colombia                  60\n",
       "Brazil                    58\n",
       "Belize                    58\n",
       "Vietnam                   57\n",
       "Tanzania                  55\n",
       "Bolivia                   53\n",
       "Guatemala                 47\n",
       "Mexico                    43\n",
       "Papua New Guinea          36\n",
       "Costa Rica                32\n",
       "U.S.A.                    29\n",
       "India                     27\n",
       "Ghana                     27\n",
       "Trinidad                  25\n",
       "Haiti                     17\n",
       "Honduras                  17\n",
       "Jamaica                   17\n",
       "Philippines               17\n",
       "Grenada                   14\n",
       "Indonesia                 14\n",
       "Uganda                    12\n",
       "Sao Tome                  11\n",
       "Fiji                      11\n",
       "St. Lucia                 10\n",
       "Vanuatu                   10\n",
       "Malaysia                   8\n",
       "Cuba                       8\n",
       "Panama                     8\n",
       "Puerto Rico                7\n",
       "Solomon Islands            6\n",
       "Congo                      6\n",
       "Ivory Coast                6\n",
       "Thailand                   5\n",
       "Sierra Leone               4\n",
       "Liberia                    3\n",
       "Togo                       3\n",
       "Nigeria                    3\n",
       "El Salvador                3\n",
       "Taiwan                     2\n",
       "Australia                  2\n",
       "Samoa                      2\n",
       "Martinique                 1\n",
       "Burma                      1\n",
       "Sri Lanka                  1\n",
       "St.Vincent-Grenadines      1\n",
       "Gabon                      1\n",
       "Tobago                     1\n",
       "Sao Tome & Principe        1\n",
       "Sumatra                    1\n",
       "Cameroon                   1\n",
       "Name: bean_origin, dtype: int64"
      ]
     },
     "execution_count": 208,
     "metadata": {},
     "output_type": "execute_result"
    }
   ],
   "source": [
    "# Value counts  of bean_origin\n",
    "df_chocs.bean_origin.value_counts()"
   ]
  },
  {
   "cell_type": "code",
   "execution_count": 210,
   "id": "3998f5fb",
   "metadata": {},
   "outputs": [
    {
     "data": {
      "image/png": "[encoded data removed]",
      "text/plain": [
       "<Figure size 1152x576 with 1 Axes>"
      ]
     },
     "metadata": {},
     "output_type": "display_data"
    }
   ],
   "source": [
    "# Visualizing the top cacao beans origin producing lots of chocolate\n",
    "plt.figure(figsize=(16,8))\n",
    "sns.barplot(data=df_chocs,x =df_chocs.bean_origin.value_counts().index[:20],\n",
    "            y =df_chocs.bean_origin.value_counts()[:20])\\\n",
    ".set(title=\"Leading origin for cacao beans\")\n",
    "plt.xticks(rotation=90);"
   ]
  },
  {
   "cell_type": "markdown",
   "id": "b560139f",
   "metadata": {},
   "source": [
    "According to the data, `Venezuela` cacao beans are most frequently used to make chocolate.\n",
    "\n",
    "The best-rated chocolates are those prepared with cocoa from `Venezuela`.\n",
    "\n",
    "\n",
    "#### Feature `bar_name`"
   ]
  },
  {
   "cell_type": "code",
   "execution_count": 211,
   "id": "5d148d3c",
   "metadata": {},
   "outputs": [
    {
     "data": {
      "text/plain": [
       "Madagascar                             39\n",
       "Ecuador                                34\n",
       "Peru                                   27\n",
       "Dominican Republic                     23\n",
       "Chuao                                  23\n",
       "                                       ..\n",
       "\"Gola Rainforest, 2017 harvest\"         1\n",
       "\"WAMPU, La Mosquitia, 2017 harvest\"     1\n",
       "\"Anamalai, 2017 harvest\"                1\n",
       "\"Ben Tre, 2018 Harvest\"                 1\n",
       "\"Lachua, Q'egchi families\"              1\n",
       "Name: bar_name, Length: 1193, dtype: int64"
      ]
     },
     "execution_count": 211,
     "metadata": {},
     "output_type": "execute_result"
    }
   ],
   "source": [
    "# Value counts  of chocolate bars\n",
    "df_chocs.bar_name.value_counts()"
   ]
  },
  {
   "cell_type": "code",
   "execution_count": 212,
   "id": "b1cd8d46",
   "metadata": {},
   "outputs": [
    {
     "data": {
      "image/png": "[encoded data removed]",
      "text/plain": [
       "<Figure size 1152x576 with 1 Axes>"
      ]
     },
     "metadata": {},
     "output_type": "display_data"
    }
   ],
   "source": [
    "# Visualizing the top company_location producing lots of chocolate\n",
    "plt.figure(figsize=(16,8))\n",
    "sns.barplot(data=df_chocs,x =df_chocs.bar_name.value_counts().index[:20],\n",
    "            y =df_chocs.bar_name.value_counts()[:20])\\\n",
    ".set(title=\"Leading Chocolate Bar\")\n",
    "plt.xticks(rotation=90);"
   ]
  },
  {
   "cell_type": "markdown",
   "id": "883b7a1d",
   "metadata": {},
   "source": [
    "Analysis shows that the `Madagascar` chocolate bar receives the most ratings."
   ]
  },
  {
   "cell_type": "code",
   "execution_count": 209,
   "id": "9b3f1cac",
   "metadata": {},
   "outputs": [
    {
     "data": {
      "text/plain": [
       "Index(['id', 'manufacturer', 'company_location', 'year_reviewed',\n",
       "       'bean_origin', 'bar_name', 'cocoa_percent', 'num_ingredients',\n",
       "       'ingredients', 'review', 'rating'],\n",
       "      dtype='object')"
      ]
     },
     "execution_count": 209,
     "metadata": {},
     "output_type": "execute_result"
    }
   ],
   "source": [
    "df_chocs.columns"
   ]
  }
 ],
 "metadata": {
  "kernelspec": {
   "display_name": "Python (learn-env)",
   "language": "python",
   "name": "learn-env"
  },
  "language_info": {
   "codemirror_mode": {
    "name": "ipython",
    "version": 3
   },
   "file_extension": ".py",
   "mimetype": "text/x-python",
   "name": "python",
   "nbconvert_exporter": "python",
   "pygments_lexer": "ipython3",
   "version": "3.9.12"
  }
 },
 "nbformat": 4,
 "nbformat_minor": 5
}
